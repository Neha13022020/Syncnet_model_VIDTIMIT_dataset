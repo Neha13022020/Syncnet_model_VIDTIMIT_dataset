{
 "cells": [
  {
   "cell_type": "markdown",
   "metadata": {
    "id": "vw1ld_0GIyum"
   },
   "source": [
    "In this notebook I'm trying to process VIDTIMIT dataset with syncnet model, and classify videos as real or fake."
   ]
  },
  {
   "cell_type": "code",
   "execution_count": 40,
   "metadata": {
    "id": "bTr-XX5gnb7L"
   },
   "outputs": [],
   "source": [
    "# importing libraries\n",
    "\n",
    "import os\n",
    "import numpy as np\n",
    "import pandas as pd\n",
    "import zipfile\n",
    "import cv2\n",
    "import h5py\n",
    "from keras import backend as K\n",
    "from keras.models import Sequential\n",
    "from keras.layers import Conv2D, BatchNormalization, Activation, MaxPooling2D\n",
    "from keras.layers import Flatten, Dense\n",
    "from os import listdir\n",
    "from os.path import isfile, join\n",
    "import sys\n",
    "import dlib\n",
    "import moviepy.editor as mpy\n",
    "import wave\n",
    "import contextlib"
   ]
  },
  {
   "cell_type": "code",
   "execution_count": 41,
   "metadata": {
    "colab": {
     "base_uri": "https://localhost:8080/",
     "height": 67
    },
    "id": "Ozi1obJ9GHhI",
    "outputId": "7529f29a-a9ec-4a37-a279-d12ac44dda15"
   },
   "outputs": [
    {
     "name": "stdout",
     "output_type": "stream",
     "text": [
      "Requirement already satisfied: speechpy in /usr/local/lib/python3.6/dist-packages (2.4)\n",
      "Requirement already satisfied: scipy in /usr/local/lib/python3.6/dist-packages (from speechpy) (1.4.1)\n",
      "Requirement already satisfied: numpy in /usr/local/lib/python3.6/dist-packages (from speechpy) (1.18.5)\n"
     ]
    }
   ],
   "source": [
    "pip install speechpy"
   ]
  },
  {
   "cell_type": "code",
   "execution_count": 3,
   "metadata": {
    "id": "nvTEexCHGNA4"
   },
   "outputs": [],
   "source": [
    "import speechpy\n",
    "import scipy.io.wavfile as wav"
   ]
  },
  {
   "cell_type": "code",
   "execution_count": 4,
   "metadata": {
    "colab": {
     "base_uri": "https://localhost:8080/",
     "height": 34
    },
    "id": "4dIPRzibnF8K",
    "outputId": "13be6a73-0f7f-4801-fde0-ce74c8405c65"
   },
   "outputs": [
    {
     "name": "stdout",
     "output_type": "stream",
     "text": [
      "Drive already mounted at /content/gdrive; to attempt to forcibly remount, call drive.mount(\"/content/gdrive\", force_remount=True).\n"
     ]
    }
   ],
   "source": [
    "# mounting drive\n",
    "\n",
    "from google.colab import drive\n",
    "drive.mount('/content/gdrive')"
   ]
  },
  {
   "cell_type": "markdown",
   "metadata": {
    "id": "rV07NbebqJlk"
   },
   "source": [
    "# zipping/unzipping the VIDTIMIT Dataset folder"
   ]
  },
  {
   "cell_type": "markdown",
   "metadata": {
    "id": "_-hLRaf_JQad"
   },
   "source": [
    "http://conradsanderson.id.au/vidtimit/"
   ]
  },
  {
   "cell_type": "code",
   "execution_count": null,
   "metadata": {
    "colab": {
     "base_uri": "https://localhost:8080/"
    },
    "id": "qai-X296ncgw",
    "outputId": "001bad9b-c81b-484e-b3f3-ee7444447ada"
   },
   "outputs": [
    {
     "data": {
      "text/plain": [
       "43"
      ]
     },
     "execution_count": 3,
     "metadata": {
      "tags": []
     },
     "output_type": "execute_result"
    }
   ],
   "source": [
    "# zipped vidtimit files\n",
    "path = '/content/gdrive/My Drive/second_case_study_FILES'\n",
    "\n",
    "data_files = os.listdir(path)\n",
    "len(data_files)"
   ]
  },
  {
   "cell_type": "code",
   "execution_count": null,
   "metadata": {
    "id": "gHEcaal8ncdW"
   },
   "outputs": [],
   "source": [
    "# unzipping all the zip files \n",
    "\n",
    "for i in data_files:\n",
    "  with zipfile.ZipFile('/content/gdrive/My Drive/second_case_study_FILES/'+i, 'r') as zip_ref:\n",
    "    zip_ref.extractall('/content/gdrive/My Drive/VIDTIMIT/')\n"
   ]
  },
  {
   "cell_type": "code",
   "execution_count": null,
   "metadata": {
    "colab": {
     "base_uri": "https://localhost:8080/"
    },
    "id": "NaSTPReNncbK",
    "outputId": "0c8ed232-8846-4e8f-f471-6d2ef0f646d3"
   },
   "outputs": [
    {
     "data": {
      "text/plain": [
       "43"
      ]
     },
     "execution_count": 50,
     "metadata": {
      "tags": []
     },
     "output_type": "execute_result"
    }
   ],
   "source": [
    "# unzipped audios and images for 43 users\n",
    "data_files = os.listdir('/content/gdrive/My Drive/VIDTIMIT')\n",
    "len(data_files)\n"
   ]
  },
  {
   "cell_type": "markdown",
   "metadata": {
    "id": "Z_9U3M_15Q_A"
   },
   "source": [
    "# creating videos"
   ]
  },
  {
   "cell_type": "code",
   "execution_count": null,
   "metadata": {
    "colab": {
     "base_uri": "https://localhost:8080/",
     "height": 101
    },
    "id": "25LT4tiIYdXb",
    "outputId": "9847c834-dff8-4957-ed9e-514e7a5697b9"
   },
   "outputs": [
    {
     "name": "stdout",
     "output_type": "stream",
     "text": [
      "Imageio: 'ffmpeg-linux64-v3.3.1' was not found on your computer; downloading it now.\n",
      "Try 1. Download from https://github.com/imageio/imageio-binaries/raw/master/ffmpeg/ffmpeg-linux64-v3.3.1 (43.8 MB)\n",
      "Downloading: 8192/45929032 bytes (0.0%)\b\b\b\b\b\b\b\b\b\b\b\b\b\b\b\b\b\b\b\b\b\b\b\b\b\b696320/45929032 bytes (1.5%)\b\b\b\b\b\b\b\b\b\b\b\b\b\b\b\b\b\b\b\b\b\b\b\b\b\b\b\b1982464/45929032 bytes (4.3%)\b\b\b\b\b\b\b\b\b\b\b\b\b\b\b\b\b\b\b\b\b\b\b\b\b\b\b\b\b3842048/45929032 bytes (8.4%)\b\b\b\b\b\b\b\b\b\b\b\b\b\b\b\b\b\b\b\b\b\b\b\b\b\b\b\b\b6504448/45929032 bytes (14.2%)\b\b\b\b\b\b\b\b\b\b\b\b\b\b\b\b\b\b\b\b\b\b\b\b\b\b\b\b\b\b10084352/45929032 bytes (22.0%)\b\b\b\b\b\b\b\b\b\b\b\b\b\b\b\b\b\b\b\b\b\b\b\b\b\b\b\b\b\b\b13393920/45929032 bytes (29.2%)\b\b\b\b\b\b\b\b\b\b\b\b\b\b\b\b\b\b\b\b\b\b\b\b\b\b\b\b\b\b\b16990208/45929032 bytes (37.0%)\b\b\b\b\b\b\b\b\b\b\b\b\b\b\b\b\b\b\b\b\b\b\b\b\b\b\b\b\b\b\b20709376/45929032 bytes (45.1%)\b\b\b\b\b\b\b\b\b\b\b\b\b\b\b\b\b\b\b\b\b\b\b\b\b\b\b\b\b\b\b24502272/45929032 bytes (53.3%)\b\b\b\b\b\b\b\b\b\b\b\b\b\b\b\b\b\b\b\b\b\b\b\b\b\b\b\b\b\b\b28205056/45929032 bytes (61.4%)\b\b\b\b\b\b\b\b\b\b\b\b\b\b\b\b\b\b\b\b\b\b\b\b\b\b\b\b\b\b\b31719424/45929032 bytes (69.1%)\b\b\b\b\b\b\b\b\b\b\b\b\b\b\b\b\b\b\b\b\b\b\b\b\b\b\b\b\b\b\b35356672/45929032 bytes (77.0%)\b\b\b\b\b\b\b\b\b\b\b\b\b\b\b\b\b\b\b\b\b\b\b\b\b\b\b\b\b\b\b38993920/45929032 bytes (84.9%)\b\b\b\b\b\b\b\b\b\b\b\b\b\b\b\b\b\b\b\b\b\b\b\b\b\b\b\b\b\b\b42745856/45929032 bytes (93.1%)\b\b\b\b\b\b\b\b\b\b\b\b\b\b\b\b\b\b\b\b\b\b\b\b\b\b\b\b\b\b\b45929032/45929032 bytes (100.0%)\n",
      "  Done\n",
      "File saved as /root/.imageio/ffmpeg/ffmpeg-linux64-v3.3.1.\n"
     ]
    }
   ],
   "source": [
    "# https://stackoverflow.com/questions/30008859/how-to-create-a-video-with-raw-images-rgb-format-and-add-audio-to-it-in-pytho\n",
    "# https://stackoverflow.com/questions/7833807/get-wav-file-length-or-duration\n",
    "# https://zulko.github.io/moviepy/getting_started/getting_started.html\n",
    "# https://theailearner.com/2018/10/15/creating-video-from-images-using-opencv-python/\n",
    "\n",
    "import glob\n"
   ]
  },
  {
   "cell_type": "markdown",
   "metadata": {
    "id": "lbvwFsI9cDrY"
   },
   "source": [
    "## creating non-tampered videos"
   ]
  },
  {
   "cell_type": "markdown",
   "metadata": {
    "id": "iOa1hzmFVscU"
   },
   "source": [
    "We have total 43 users, and each user has 10 audios with respective frames. So we can create 430 non-tampered videos."
   ]
  },
  {
   "cell_type": "code",
   "execution_count": null,
   "metadata": {
    "colab": {
     "base_uri": "https://localhost:8080/"
    },
    "id": "5TEdau3LPuRu",
    "outputId": "2669df5e-11af-42e8-c7b1-162a2be400e5"
   },
   "outputs": [
    {
     "name": "stdout",
     "output_type": "stream",
     "text": [
      "file num 1 faks0\n",
      "file num 2 fcft0\n",
      "file num 3 fcmh0\n",
      "file num 4 fdac1\n",
      "file num 5 fdms0\n",
      "file num 6 fcmr0\n",
      "file num 7 fdrd1\n",
      "file num 8 fedw0\n",
      "file num 9 fcrh0\n",
      "file num 10 felc0\n",
      "file num 11 fjas0\n",
      "file num 12 fjem0\n",
      "file num 13 fgjd0\n",
      "file num 14 fjre0\n",
      "file num 15 fpkt0\n",
      "file num 16 fjwb0\n",
      "file num 17 fkms0\n",
      "file num 18 fram1\n",
      "file num 19 mbdg0\n",
      "file num 20 mabw0\n",
      "file num 21 mcem0\n",
      "file num 22 mbjk0\n",
      "file num 23 mccs0\n",
      "file num 24 mgwt0\n",
      "file num 25 mdbb0\n",
      "file num 26 mjar0\n",
      "file num 27 mdab0\n",
      "file num 28 mdld0\n",
      "file num 29 mjsw0\n",
      "file num 30 mmdb1\n",
      "file num 31 mpgl0\n",
      "file num 32 mmdm2\n",
      "file num 33 mpdf0\n",
      "file num 34 mreb0\n",
      "file num 35 msjs1\n",
      "file num 36 mrcz0\n",
      "file num 37 mrjo0\n",
      "file num 38 mrgg0\n",
      "file num 39 mtas1\n",
      "file num 40 mstk0\n",
      "file num 41 mwbt0\n",
      "file num 42 mtmr0\n",
      "file num 43 fadg0\n"
     ]
    }
   ],
   "source": [
    "c=0\n",
    "for i in data_files:\n",
    "  # i represents user\n",
    "  c=c+1\n",
    "  print('file num',c,i)\n",
    "  files=os.listdir('/content/gdrive/My Drive/VIDTIMIT/'+i+'/audio')\n",
    "  for j in files:\n",
    "    # j represents audio file\n",
    "    \n",
    "    with contextlib.closing(wave.open('/content/gdrive/My Drive/VIDTIMIT/'+str(i)+'/audio/'+j,'r')) as f:\n",
    "      frames = f.getnframes()\n",
    "      rate = f.getframerate()\n",
    "      duration = frames / float(rate)\n",
    "      #print(duration)\n",
    "      \n",
    "    t = j.split('.')[0]\n",
    "    p = '/content/gdrive/My Drive/VIDTIMIT/'+i+'/video'\n",
    "    if t in os.listdir(p):\n",
    "        temp = os.listdir('/content/gdrive/My Drive/VIDTIMIT/'+i+'/video/'+t)\n",
    "        frames = len(temp)\n",
    "        fps = frames/duration\n",
    "        img_array = []\n",
    "        for filename in glob.glob('/content/gdrive/My Drive/VIDTIMIT/'+i+'/video/'+t+'/*'):\n",
    "            img = cv2.imread(filename)\n",
    "            height, width, layers = img.shape\n",
    "            size = (width,height)\n",
    "            img_array.append(img)\n",
    "        out = cv2.VideoWriter('/content/gdrive/My Drive/vidtimit_videos/non_tampered/'+i+'_'+t+'.mp4',cv2.VideoWriter_fourcc(*'DIVX'), fps, size)\n",
    "        for k in range(len(img_array)):\n",
    "          out.write(img_array[k])\n",
    "        out.release()"
   ]
  },
  {
   "cell_type": "code",
   "execution_count": null,
   "metadata": {
    "colab": {
     "base_uri": "https://localhost:8080/"
    },
    "id": "_jYixI336hXy",
    "outputId": "cea48edd-e36a-47c8-95f7-dd4c1471c171"
   },
   "outputs": [
    {
     "data": {
      "text/plain": [
       "430"
      ]
     },
     "execution_count": 60,
     "metadata": {
      "tags": []
     },
     "output_type": "execute_result"
    }
   ],
   "source": [
    "d=os.listdir('/content/gdrive/My Drive/vidtimit_videos/non_tampered')\n",
    "len(d)"
   ]
  },
  {
   "cell_type": "markdown",
   "metadata": {
    "id": "LTbiITv0O15J"
   },
   "source": [
    "## creating tampered videos"
   ]
  },
  {
   "cell_type": "markdown",
   "metadata": {
    "id": "nMgtR2_UWGXX"
   },
   "source": [
    "Here I'm creating tampered videos, by taking each audio for all users, with 3 random sets of frames (except the original one). So total 430*3 tampered videos."
   ]
  },
  {
   "cell_type": "code",
   "execution_count": null,
   "metadata": {
    "colab": {
     "base_uri": "https://localhost:8080/"
    },
    "id": "5yNVpEs_O5gv",
    "outputId": "82ad230b-e4cc-4a11-fe37-be5cc473b414"
   },
   "outputs": [
    {
     "name": "stdout",
     "output_type": "stream",
     "text": [
      "file num 1 faks0\n",
      "file num 2 fcft0\n",
      "file num 3 fcmh0\n",
      "file num 4 fdac1\n",
      "file num 5 fdms0\n",
      "file num 6 fcmr0\n",
      "file num 7 fdrd1\n",
      "file num 8 fedw0\n",
      "file num 9 fcrh0\n",
      "file num 10 felc0\n",
      "file num 11 fjas0\n",
      "file num 12 fjem0\n",
      "file num 13 fgjd0\n",
      "file num 14 fjre0\n",
      "file num 15 fpkt0\n",
      "file num 16 fjwb0\n",
      "file num 17 fkms0\n",
      "file num 18 fram1\n",
      "file num 19 mbdg0\n",
      "file num 20 mabw0\n",
      "file num 21 mcem0\n",
      "file num 22 mbjk0\n",
      "file num 23 mccs0\n",
      "file num 24 mgwt0\n",
      "file num 25 mdbb0\n",
      "file num 26 mjar0\n",
      "file num 27 mdab0\n",
      "file num 28 mdld0\n",
      "file num 29 mjsw0\n",
      "file num 30 mmdb1\n",
      "file num 31 mpgl0\n",
      "file num 32 mmdm2\n",
      "file num 33 mpdf0\n",
      "file num 34 mreb0\n",
      "file num 35 msjs1\n",
      "file num 36 mrcz0\n",
      "file num 37 mrjo0\n",
      "file num 38 mrgg0\n",
      "file num 39 mtas1\n",
      "file num 40 mstk0\n",
      "file num 41 mwbt0\n",
      "file num 42 mtmr0\n",
      "file num 43 fadg0\n"
     ]
    }
   ],
   "source": [
    "c=0\n",
    "for i in data_files:\n",
    "  # i represents user\n",
    "  c=c+1\n",
    "  print('file num',c,i)\n",
    "  files = os.listdir('/content/gdrive/My Drive/VIDTIMIT/'+i+'/audio')\n",
    "  \n",
    "  for m in range(1,4):\n",
    "    for j in files: \n",
    "      # j represents audio file\n",
    "      \n",
    "      with contextlib.closing(wave.open('/content/gdrive/My Drive/VIDTIMIT/'+i+'/audio/'+j,'r')) as f:\n",
    "        frames = f.getnframes()\n",
    "        rate = f.getframerate()\n",
    "        duration = frames / float(rate)\n",
    "        \n",
    "        #print(duration)\n",
    "\n",
    "      t = files[m]\n",
    "      if j==t:\n",
    "        t=files[m*2]\n",
    "\n",
    "      if j!=t:\n",
    "        t = t.split('.')[0]\n",
    "        p = '/content/gdrive/My Drive/VIDTIMIT/'+i+'/video'\n",
    "        if t in os.listdir(p):\n",
    "            temp = os.listdir('/content/gdrive/My Drive/VIDTIMIT/'+i+'/video/'+t)\n",
    "            frames = len(temp)\n",
    "            fps = frames/duration\n",
    "            img_array = []\n",
    "            for filename in glob.glob('/content/gdrive/My Drive/VIDTIMIT/'+i+'/video/'+t+'/*'):\n",
    "                img = cv2.imread(filename)\n",
    "                height, width, layers = img.shape\n",
    "                size = (width,height)\n",
    "                img_array.append(img)\n",
    "            n=j.split('.')[0]\n",
    "            out = cv2.VideoWriter('/content/gdrive/My Drive/vidtimit_videos/tampered/tamp_'+i+'_'+str(m)+'_'+n+'.mp4',cv2.VideoWriter_fourcc(*'DIVX'), fps, size)\n",
    "            for k in range(len(img_array)):\n",
    "              out.write(img_array[k])\n",
    "            out.release()"
   ]
  },
  {
   "cell_type": "code",
   "execution_count": null,
   "metadata": {
    "colab": {
     "base_uri": "https://localhost:8080/"
    },
    "id": "m6hdD0FCO5xu",
    "outputId": "4275c8be-b211-4786-853b-689a7534694e"
   },
   "outputs": [
    {
     "data": {
      "text/plain": [
       "1287"
      ]
     },
     "execution_count": 89,
     "metadata": {
      "tags": []
     },
     "output_type": "execute_result"
    }
   ],
   "source": [
    "d=os.listdir('/content/gdrive/My Drive/vidtimit_videos/tampered')\n",
    "len(d)\n"
   ]
  },
  {
   "cell_type": "markdown",
   "metadata": {
    "id": "HVfUY-AM7Hgy"
   },
   "source": [
    "# Audio-video processing\n",
    "\n",
    "https://github.com/voletiv/syncnet-in-keras/blob/master/syncnet_functions.py\n",
    "\n",
    "I have taken all the processing and model functions from mentioned link."
   ]
  },
  {
   "cell_type": "code",
   "execution_count": 5,
   "metadata": {
    "id": "23RrH0U8W8US"
   },
   "outputs": [],
   "source": [
    "# parameters\n",
    "#https://github.com/voletiv/syncnet-in-keras/blob/master/syncnet_params.py\n",
    "\n",
    "MOUTH_H = 112\n",
    "MOUTH_W = 112\n",
    "FACE_H = 224\n",
    "FACE_W = 224\n",
    "MOUTH_TO_FACE_RATIO = 0.65\n",
    "SYNCNET_VIDEO_FPS = 25\n",
    "SYNCNET_VIDEO_CHANNELS = int(0.2 * SYNCNET_VIDEO_FPS)  # 5\n",
    "SYNCNET_MFCC_CHANNELS = 12\n",
    "AUDIO_TIME_STEPS = 20\n",
    "IMAGE_DATA_FORMAT = 'channels_last'"
   ]
  },
  {
   "cell_type": "code",
   "execution_count": 6,
   "metadata": {
    "colab": {
     "base_uri": "https://localhost:8080/",
     "height": 67
    },
    "id": "lSKhJEDCXSHS",
    "outputId": "08e9340b-566c-4603-d1b7-f30a013aa3ee"
   },
   "outputs": [
    {
     "name": "stdout",
     "output_type": "stream",
     "text": [
      "Requirement already satisfied: sk-video in /usr/local/lib/python3.6/dist-packages (1.1.10)\n",
      "Requirement already satisfied: numpy in /usr/local/lib/python3.6/dist-packages (from sk-video) (1.18.5)\n",
      "Requirement already satisfied: scipy in /usr/local/lib/python3.6/dist-packages (from sk-video) (1.4.1)\n"
     ]
    }
   ],
   "source": [
    "pip install sk-video"
   ]
  },
  {
   "cell_type": "code",
   "execution_count": 7,
   "metadata": {
    "id": "vnqySCHxW5fP"
   },
   "outputs": [],
   "source": [
    "import skvideo.io"
   ]
  },
  {
   "cell_type": "markdown",
   "metadata": {
    "id": "1LPB5g57Imm2"
   },
   "source": [
    "## Video pre-processing"
   ]
  },
  {
   "cell_type": "code",
   "execution_count": 8,
   "metadata": {
    "id": "gfFVpqPnwCIl"
   },
   "outputs": [],
   "source": [
    "def make_rect_shape_square(rect):\n",
    "    # Rect: (x, y, x+w, y+h)\n",
    "\n",
    "    x = rect[0]\n",
    "    y = rect[1]\n",
    "    w = rect[2] - x\n",
    "    h = rect[3] - y\n",
    "    # If width > height\n",
    "    if w > h:\n",
    "        new_x = x\n",
    "        new_y = int(y - (w-h)/2)\n",
    "        new_w = w\n",
    "        new_h = w\n",
    "    # Else (height > width)\n",
    "    else:\n",
    "        new_x = int(x - (h-w)/2)\n",
    "        new_y = y\n",
    "        new_w = h\n",
    "        new_h = h\n",
    "    return [new_x, new_y, new_x + new_w, new_y + new_h]\n",
    "\n",
    "\n",
    "def expand_rect(rect, scale, frame_shape, scale_w=1.5, scale_h=1.5):\n",
    "\n",
    "    if scale is not None:\n",
    "        scale_w = scale\n",
    "        scale_h = scale\n",
    "    # Rect: (x, y, x+w, y+h)\n",
    "    x = rect[0]\n",
    "    y = rect[1]\n",
    "    w = rect[2] - x\n",
    "    h = rect[3] - y\n",
    "    # new_w, new_h\n",
    "    new_w = int(w * scale_w)\n",
    "    new_h = int(h * scale_h)\n",
    "    # new_x\n",
    "    new_x = int(x - (new_w - w)/2)\n",
    "    if new_x < 0:\n",
    "        new_w = new_x + new_w\n",
    "        new_x = 0\n",
    "    elif new_x + new_w > (frame_shape[1] - 1):\n",
    "        new_w = (frame_shape[1] - 1) - new_x\n",
    "    # new_y\n",
    "    new_y = int(y - (new_h - h)/2)\n",
    "    if new_y < 0:\n",
    "        new_h = new_y + new_h\n",
    "        new_y = 0\n",
    "    elif new_y + new_h > (frame_shape[0] - 1):\n",
    "        new_h = (frame_shape[0] - 1) - new_y\n",
    "    return [new_x, new_y, new_x + new_w, new_y + new_h]\n",
    "\n",
    "def detect_mouth_in_frame(frame, detector, predictor, prevFace, verbose):\n",
    "    ''' takes frames as input and detect face and mouth from it, then return it with proper coordinates '''\n",
    "\n",
    "    # Detect all faces\n",
    "    faces = detector(frame, 1)\n",
    "\n",
    "    # If no faces are detected\n",
    "    if len(faces) == 0:\n",
    "        if verbose:\n",
    "            print(\"No faces detected, using prevFace\", prevFace, \"(detect_mouth_in_frame)\")\n",
    "        faces = [prevFace]\n",
    "\n",
    "    # Note first face (ASSUMING FIRST FACE IS THE REQUIRED ONE!)\n",
    "    face = faces[0]\n",
    "    # Predict facial landmarks\n",
    "    shape = predictor(frame, face)\n",
    "    # Note all mouth landmark coordinates\n",
    "    mouthCoords = np.array([[shape.part(i).x, shape.part(i).y] for i in range(48, 68)])\n",
    "\n",
    "    # Mouth Rect: x, y, x+w, y+h\n",
    "    mouthRect = [np.min(mouthCoords[:, 1]), np.min(mouthCoords[:, 0]),\n",
    "                 np.max(mouthCoords[:, 1]), np.max(mouthCoords[:, 0])]\n",
    "\n",
    "    # Make mouthRect square\n",
    "    mouthRect = make_rect_shape_square(mouthRect)\n",
    "\n",
    "    # Expand mouthRect square\n",
    "    expandedMouthRect = expand_rect(mouthRect, scale=(MOUTH_TO_FACE_RATIO * face.width() / mouthRect[2]), frame_shape=(frame.shape[0], frame.shape[1]))\n",
    "    \n",
    "    # Mouth\n",
    "    mouth = frame[expandedMouthRect[1]:expandedMouthRect[3],\n",
    "                  expandedMouthRect[0]:expandedMouthRect[2]]\n",
    "\n",
    "    # # Resize to 120x120\n",
    "    # resizedMouthImage = np.round(resize(mouth, (120, 120), preserve_range=True)).astype('uint8')\n",
    "\n",
    "    # Return mouth\n",
    "    return mouth, face\n"
   ]
  },
  {
   "cell_type": "code",
   "execution_count": 9,
   "metadata": {
    "id": "3Bicn0sFbXIm"
   },
   "outputs": [],
   "source": [
    "def video_processing(video):\n",
    "  ''' takes video as input and returns array for the detected mouth '''\n",
    "\n",
    "  predictor_path = '/content/gdrive/My Drive/shape_predictor_68_face_landmarks.dat'\n",
    "  detector = dlib.get_frontal_face_detector()\n",
    "  predictor = dlib.shape_predictor(predictor_path)\n",
    "\n",
    "  cap = cv2.VideoCapture(video)\n",
    "  \n",
    "  # Default face rect\n",
    "  face = dlib.rectangle(30, 30, 220, 220)\n",
    "  lip_model_input = []\n",
    "  frame_index = 0\n",
    "  while(cap.isOpened()):\n",
    "          \n",
    "          frames = []\n",
    "          for i in range(5):\n",
    "              _, frame = cap.read()\n",
    "              frame_index += 1\n",
    "              # print(\"Frame\", frame_index+1, \"of\", frameCount, end=\"\\r\")\n",
    "\n",
    "              # If no frame is read, break\n",
    "              if frame is None:\n",
    "                  break\n",
    "              \n",
    "              # Detect mouth in the frame\n",
    "              mouth, _ = detect_mouth_in_frame(frame, detector, predictor, prevFace=face, verbose=False)\n",
    "\n",
    "              # Convert mouth to grayscale\n",
    "              mouth = cv2.cvtColor(mouth, cv2.COLOR_BGR2GRAY)\n",
    "\n",
    "              # Resize mouth to syncnet input shape\n",
    "              mouth = cv2.resize(mouth, (MOUTH_W, MOUTH_H))\n",
    "\n",
    "              # Subtract 110 from all mouth values (Checked in syncnet_demo.m)\n",
    "              mouth = mouth - 110.\n",
    "\n",
    "              frames.append(mouth)\n",
    "\n",
    "          if len(frames) == 5:\n",
    "              stacked = np.stack(frames, axis=-1) #syncnet requires (112,112,5)\n",
    "              lip_model_input.append(stacked)\n",
    "          else:\n",
    "              break\n",
    "\n",
    "  return np.array(lip_model_input)"
   ]
  },
  {
   "cell_type": "markdown",
   "metadata": {
    "id": "BGd6pzMgRJmZ"
   },
   "source": [
    "Either you can pass directly video to above function and get your features. Or else, you can use below function and pass the video frames and get the features. Both functions are returning the same array."
   ]
  },
  {
   "cell_type": "code",
   "execution_count": 10,
   "metadata": {
    "id": "iU7wlNeFhiWg"
   },
   "outputs": [],
   "source": [
    "# processing frames from live feed\n",
    "\n",
    "def video_process_frames(video):\n",
    "  ''' takes video-frames as input and returns array for the detected mouth '''\n",
    "\n",
    "  predictor_path = '/content/gdrive/My Drive/shape_predictor_68_face_landmarks.dat'\n",
    "  detector = dlib.get_frontal_face_detector()\n",
    "  predictor = dlib.shape_predictor(predictor_path)\n",
    "\n",
    "  frames_path = '/content/gdrive/My Drive/VIDTIMIT/faks0/video/sa1'   # passing frames\n",
    "  files = os.listdir(frames_path)\n",
    "  face = dlib.rectangle(30, 30, 220, 220)  # Default face rect\n",
    "  lip_model_input = []\n",
    "  for j in range(0,len(files),5):\n",
    "          frames = []\n",
    "          temp_file=files[j:j+5]\n",
    "          if len(temp_file)==5:\n",
    "            for i in range(5):\n",
    "              \n",
    "              frame = cv2.imread('/content/gdrive/My Drive/VIDTIMIT/faks0/video/sa1/'+temp_file[i])\n",
    "              \n",
    "              if frame is None:\n",
    "                  break\n",
    "\n",
    "              # Detect mouth in the frame\n",
    "              mouth, _ = detect_mouth_in_frame(frame, detector, predictor, prevFace=face, verbose=False)\n",
    "              # Convert mouth to grayscale\n",
    "              mouth = cv2.cvtColor(mouth, cv2.COLOR_BGR2GRAY)\n",
    "              # Resize mouth to syncnet input shape\n",
    "              mouth = cv2.resize(mouth, (MOUTH_W, MOUTH_H))\n",
    "              # Subtract 110 from all mouth values \n",
    "              mouth = mouth - 110.\n",
    "              frames.append(mouth)\n",
    "\n",
    "          if len(frames) == 5:\n",
    "              stacked = np.stack(frames, axis=-1) #syncnet requires (112,112,5)\n",
    "              lip_model_input.append(stacked)\n",
    "  return np.array(lip_model_input)"
   ]
  },
  {
   "cell_type": "markdown",
   "metadata": {
    "id": "jU3QAiK1Iqq9"
   },
   "source": [
    "## Audio Pre-processing"
   ]
  },
  {
   "cell_type": "code",
   "execution_count": 11,
   "metadata": {
    "id": "FoG-ATFbffgW"
   },
   "outputs": [],
   "source": [
    "#http://www.practicalcryptography.com/miscellaneous/machine-learning/guide-mel-frequency-cepstral-coefficients-mfccs/\n",
    "\n",
    "def audio_processing(wav_file, verbose):\n",
    "    ''' takes audio file as input and creates mfcc features '''\n",
    "    \n",
    "    \"\"\"To extract mfcc features of audio, clips 0.2 seconds in length each,\n",
    "    i.e. of 20 MFCC features in each clip (acc. to syncnet paper)\n",
    "    Output mfcc_clips shape === (N, 12, 20, 1),\n",
    "    where N = len(mfcc_features) // 20\n",
    "    \"\"\"\n",
    "\n",
    "    rate, sig = wav.read(wav_file)\n",
    "    if verbose:\n",
    "        print(\"Sig length: {}, sample_rate: {}\".format(len(sig), rate))\n",
    "\n",
    "    try:\n",
    "        mfcc_features = speechpy.feature.mfcc(sig, sampling_frequency=rate, frame_length=0.010, frame_stride=0.010)\n",
    "    except IndexError:\n",
    "        raise ValueError(\"ERROR: Index error occurred while extracting mfcc\")\n",
    "\n",
    "    if verbose:\n",
    "        print(\"mfcc_features shape:\", mfcc_features.shape)\n",
    "\n",
    "    # Number of audio clips = len(mfcc_features) // length of each audio clip\n",
    "    number_of_audio_clips = len(mfcc_features) // AUDIO_TIME_STEPS\n",
    "\n",
    "    if verbose:\n",
    "        print(\"Number of audio clips:\", number_of_audio_clips)\n",
    "\n",
    "    # Don't consider the first MFCC feature, only consider the next 12 (Checked in syncnet_demo.m)\n",
    "    # Also, only consider AUDIO_TIME_STEPS*number_of_audio_clips features\n",
    "    mfcc_features = mfcc_features[:AUDIO_TIME_STEPS*number_of_audio_clips, 1:]\n",
    "\n",
    "    # Reshape mfcc_features from (x, 12) to (x//20, 12, 20, 1)\n",
    "    mfcc_features = np.expand_dims(np.transpose(np.split(mfcc_features, number_of_audio_clips), (0, 2, 1)), axis=-1)\n",
    "\n",
    "    if verbose:\n",
    "        print(\"Final mfcc_features shape:\", mfcc_features.shape)\n",
    "    return mfcc_features\n",
    "\n",
    "\n"
   ]
  },
  {
   "cell_type": "markdown",
   "metadata": {
    "id": "t9rnLy2Bmz4k"
   },
   "source": [
    "# modeling"
   ]
  },
  {
   "cell_type": "code",
   "execution_count": 12,
   "metadata": {
    "id": "2pNaDaIAOxl5"
   },
   "outputs": [],
   "source": [
    "def syncnet_lip_model_v4():\n",
    "    ''' model layers for lip area from video ''' \n",
    "\n",
    "    # Image data format\n",
    "    K.set_image_data_format(IMAGE_DATA_FORMAT)\n",
    "    input_shape = ( MOUTH_H, MOUTH_W, SYNCNET_VIDEO_CHANNELS)\n",
    "\n",
    "    lip_model = Sequential()     # ( None, 112, 112, 5)\n",
    "\n",
    "    # conv1_lip\n",
    "    lip_model.add(Conv2D(96, (3, 3), padding='valid', input_shape=input_shape, name='conv1_lip'))  # (None, 110, 110, 96)\n",
    "    # bn1_lip\n",
    "    lip_model.add(BatchNormalization(name='bn1_lip'))\n",
    "    # relu1_lip\n",
    "    lip_model.add(Activation('relu', name='relu1_lip'))\n",
    "    # pool1_lip\n",
    "    lip_model.add(MaxPooling2D(pool_size=(3, 3), strides=(2, 2), padding='valid', name='pool1_lip'))   # (None, 54, 54, 96)\n",
    "\n",
    "\n",
    "    # conv2_lip\n",
    "    lip_model.add(Conv2D(256, (5, 5), padding='valid', name='conv2_lip'))   # (None, 256, 50, 50)\n",
    "    # bn2_lip\n",
    "    lip_model.add(BatchNormalization(name='bn2_lip'))\n",
    "    # relu2_lip\n",
    "    lip_model.add(Activation('relu', name='relu2_lip'))\n",
    "    # pool2_lip\n",
    "    lip_model.add(MaxPooling2D(pool_size=(3, 3), strides=(2, 2), padding='valid', name='pool2_lip'))   # (None, 24, 24, 256)\n",
    "\n",
    "\n",
    "    # conv3_lip\n",
    "    lip_model.add(Conv2D(512, (3, 3), padding='valid', name='conv3_lip'))   # (None, 22, 22, 512)\n",
    "    # bn3_lip\n",
    "    lip_model.add(BatchNormalization(name='bn3_lip'))\n",
    "    # relu3_lip\n",
    "    lip_model.add(Activation('relu', name='relu3_lip'))\n",
    "\n",
    "\n",
    "    # conv4_lip\n",
    "    lip_model.add(Conv2D(512, (3, 3), padding='valid', name='conv4_lip'))   # (None, 20, 20, 512)\n",
    "    # bn4_lip\n",
    "    lip_model.add(BatchNormalization(name='bn4_lip'))\n",
    "    # relu4_lip\n",
    "    lip_model.add(Activation('relu', name='relu4_lip'))\n",
    "\n",
    "\n",
    "    # conv5_lip\n",
    "    lip_model.add(Conv2D(512, (3, 3), padding='valid', name='conv5_lip'))   # (None, 18, 18, 512)\n",
    "    # bn5_lip\n",
    "    lip_model.add(BatchNormalization(name='bn5_lip'))\n",
    "    # relu5_lip\n",
    "    lip_model.add(Activation('relu', name='relu5_lip'))\n",
    "    # pool5_lip\n",
    "    lip_model.add(MaxPooling2D(pool_size=(3, 3), strides=(3, 3), padding='valid', name='pool5_lip'))   # (None, 6, 6, 512)\n",
    "\n",
    "\n",
    "    # fc6_lip\n",
    "    lip_model.add(Flatten(name='flatten_lip'))\n",
    "    lip_model.add(Dense(256, name='fc6_lip'))    # (None, 256)\n",
    "    # bn6_lip\n",
    "    lip_model.add(BatchNormalization(name='bn6_lip'))\n",
    "    # relu6_lip\n",
    "    lip_model.add(Activation('relu', name='relu6_lip'))\n",
    "\n",
    "\n",
    "    # fc7_lip\n",
    "    lip_model.add(Dense(128, name='fc7_lip'))    # (None, 128)\n",
    "    # bn7_lip\n",
    "    lip_model.add(BatchNormalization(name='bn7_lip'))\n",
    "    # relu7_lip\n",
    "    lip_model.add(Activation('relu', name='relu7_lip'))\n",
    "\n",
    "\n",
    "    return lip_model"
   ]
  },
  {
   "cell_type": "code",
   "execution_count": 13,
   "metadata": {
    "id": "iap32qOlOxe7"
   },
   "outputs": [],
   "source": [
    "def syncnet_audio_model_v4():\n",
    "    ''' model layers for audio features '''\n",
    "\n",
    "    # Audio input shape\n",
    "    input_shape = ( SYNCNET_MFCC_CHANNELS, AUDIO_TIME_STEPS, 1)\n",
    "\n",
    "    audio_model = Sequential()     # (None, 12, 20, 1)\n",
    "\n",
    "    # conv1_audio\n",
    "    audio_model.add(Conv2D(64, (3, 3), padding='same', name='conv1_audio', input_shape=input_shape))  # (None, 12, 20, 64)\n",
    "    # bn1_audio\n",
    "    audio_model.add(BatchNormalization(name='bn1_audio'))\n",
    "    # relu1_audio\n",
    "    audio_model.add(Activation('relu', name='relu1_audio'))\n",
    "\n",
    "\n",
    "    # conv2_audio\n",
    "    audio_model.add(Conv2D(128, (3, 3), padding='same', name='conv2_audio'))   # (None, 12, 20, 128)\n",
    "    # bn2_audio\n",
    "    audio_model.add(BatchNormalization(name='bn2_audio'))\n",
    "    # relu2_audio\n",
    "    audio_model.add(Activation('relu', name='relu2_audio'))\n",
    "    # pool2_audio\n",
    "    audio_model.add(MaxPooling2D(pool_size=(1, 3), strides=(1, 2), padding='valid', name='pool2_audio'))   # (None, 12, 9, 128)\n",
    "\n",
    "\n",
    "    # conv3_audio\n",
    "    audio_model.add(Conv2D(256, (3, 3), padding='same', name='conv3_audio'))   # (None, 12, 9, 256)\n",
    "    # bn3_audio\n",
    "    audio_model.add(BatchNormalization(name='bn3_audio'))\n",
    "    # relu3_audio\n",
    "    audio_model.add(Activation('relu', name='relu3_audio'))\n",
    "\n",
    "\n",
    "    # conv4_audio\n",
    "    audio_model.add(Conv2D(256, (3, 3), padding='same', name='conv4_audio'))   # (None, 12, 9, 256)\n",
    "    # bn4_audio\n",
    "    audio_model.add(BatchNormalization(name='bn4_audio'))\n",
    "    # relu4_audio\n",
    "    audio_model.add(Activation('relu', name='relu4_audio'))\n",
    "\n",
    "\n",
    "    # conv5_audio\n",
    "    audio_model.add(Conv2D(256, (3, 3), padding='same', name='conv5_audio'))   # (None, 12, 9, 256)\n",
    "    # bn5_audio\n",
    "    audio_model.add(BatchNormalization(name='bn5_audio'))\n",
    "    # relu5_audio\n",
    "    audio_model.add(Activation('relu', name='relu5_audio'))\n",
    "    # pool5_audio\n",
    "    audio_model.add(MaxPooling2D(pool_size=(3, 3), strides=(2, 2), padding='valid', name='pool5_audio'))   # (None, 5, 4, 256)\n",
    "\n",
    "\n",
    "    # fc6_audio\n",
    "    audio_model.add(Flatten(name='flatten_audio'))\n",
    "    audio_model.add(Dense(256, name='fc6_audio'))    # (None, 256)\n",
    "    # bn6_audio\n",
    "    audio_model.add(BatchNormalization(name='bn6_audio'))\n",
    "    # relu6_audio\n",
    "    audio_model.add(Activation('relu', name='relu6_audio'))\n",
    "\n",
    "\n",
    "    # fc7_audio\n",
    "    audio_model.add(Dense(128, name='fc7_audio'))    # (None, 128)\n",
    "    # bn7_audio\n",
    "    audio_model.add(BatchNormalization(name='bn7_audio'))\n",
    "    # relu7_audio\n",
    "    audio_model.add(Activation('relu', name='relu7_audio'))\n",
    "\n",
    "\n",
    "    return audio_model\n"
   ]
  },
  {
   "cell_type": "code",
   "execution_count": 14,
   "metadata": {
    "id": "f7Kaca01skAF"
   },
   "outputs": [],
   "source": [
    "def load_syncnet_model(mode, verbose):\n",
    "    ''' loading the syncnet model '''\n",
    "    \n",
    "    if mode == 'lip' or mode == 'both':\n",
    "      # Load frontal model\n",
    "      syncnet_lip_model = syncnet_lip_model_v4()\n",
    "\n",
    "    if mode == 'audio' or mode == 'both':   \n",
    "      # Load frontal model\n",
    "      syncnet_audio_model = syncnet_audio_model_v4()\n",
    "       \n",
    "    if mode == 'lip':\n",
    "        syncnet_model = syncnet_lip_model\n",
    "    elif mode == 'audio':\n",
    "        syncnet_model = syncnet_audio_model\n",
    "    elif mode == 'both':\n",
    "        syncnet_model = [syncnet_audio_model, syncnet_lip_model]\n",
    "\n",
    "    return syncnet_model"
   ]
  },
  {
   "cell_type": "code",
   "execution_count": 15,
   "metadata": {
    "id": "YC9Ap8t-uEvX"
   },
   "outputs": [],
   "source": [
    "# https://github.com/voletiv/syncnet-in-keras/blob/master/syncnet-weights/syncnet-weights-readme.md\n",
    "\n",
    "def load_syncnet_weights( verbose):\n",
    "    ''' reading and loading pre trained weights file '''\n",
    "\n",
    "    syncnet_weights_file = '/content/gdrive/My Drive/lipsync_v4_73.mat'\n",
    "\n",
    "    if verbose:\n",
    "        print(\"Loading syncnet_weights from\", syncnet_weights_file)\n",
    "\n",
    "    if not os.path.isfile(syncnet_weights_file):\n",
    "        raise ValueError(\n",
    "            \"\\n\\nERROR: syncnet_weight_file missing!! File: \" + syncnet_weights_file + \\\n",
    "            \"\\nPlease specify correct file name in the syncnet_params.py file and relaunch.\\n\")\n",
    "\n",
    "    # Read weights file, with layer names\n",
    "    with h5py.File(syncnet_weights_file, 'r') as f:\n",
    "        syncnet_weights = [f[v[0]][:] for v in f['net/params/value']]\n",
    "        syncnet_layer_names = [[chr(i) for i in  f[n[0]]] \\\n",
    "                               for n in f['net/layers/name']]\n",
    "\n",
    "    # Find the starting index of audio and lip layers\n",
    "    audio_found = False\n",
    "    audio_start_idx = 0\n",
    "    lip_found = False\n",
    "    lip_start_idx = 0\n",
    "\n",
    "    # Join the chars of layer names to make them words\n",
    "    for i in range(len(syncnet_layer_names)):\n",
    "        syncnet_layer_names[i] = ''.join(syncnet_layer_names[i])\n",
    "\n",
    "        # Finding audio_start_idx\n",
    "        if not audio_found and 'audio' in syncnet_layer_names[i]:\n",
    "            audio_found = True\n",
    "            if verbose:\n",
    "                print(\"Found audio\")\n",
    "        elif not audio_found and 'audio' not in syncnet_layer_names[i]:\n",
    "            if 'conv' in syncnet_layer_names[i]:\n",
    "                audio_start_idx += 2\n",
    "            elif 'bn' in syncnet_layer_names[i]:\n",
    "                audio_start_idx += 3\n",
    "            elif 'fc' in syncnet_layer_names[i]:\n",
    "                audio_start_idx += 2\n",
    "\n",
    "        # Finding lip_start_idx\n",
    "        if not lip_found and 'lip' in syncnet_layer_names[i]:\n",
    "            lip_found = True\n",
    "            if verbose:\n",
    "                print(\"Found lip\")\n",
    "        elif not lip_found and 'lip' not in syncnet_layer_names[i]:\n",
    "            if 'conv' in syncnet_layer_names[i]:\n",
    "                lip_start_idx += 2\n",
    "            elif 'bn' in syncnet_layer_names[i]:\n",
    "                lip_start_idx += 3\n",
    "            elif 'fc' in syncnet_layer_names[i]:\n",
    "                lip_start_idx += 2\n",
    "\n",
    "        if verbose:\n",
    "            print(\"  \", i, syncnet_layer_names[i])\n",
    "\n",
    "    if verbose:\n",
    "        print(\"  lip_start_idx =\", lip_start_idx)\n",
    "        print(\"  audio_start_idx =\", audio_start_idx)\n",
    "\n",
    "    return syncnet_weights, syncnet_layer_names, audio_start_idx, lip_start_idx\n",
    "\n"
   ]
  },
  {
   "cell_type": "code",
   "execution_count": 16,
   "metadata": {
    "id": "mscIrL43uFRw"
   },
   "outputs": [],
   "source": [
    "def set_syncnet_weights_to_syncnet_model(syncnet_model, syncnet_weights, syncnet_layer_names, mode, verbose):\n",
    "    ''' loading pre trained weights into the syncnet model layers '''\n",
    "\n",
    "    if verbose:\n",
    "        print(\"Setting weights to model\")\n",
    "\n",
    "    # Video syncnet-related weights begin at 35 in syncnet_weights\n",
    "    if mode == 'lip':\n",
    "        syncnet_weights_idx = 35\n",
    "    else:\n",
    "        syncnet_weights_idx = 0\n",
    "\n",
    "    if mode == 'both':\n",
    "        syncnet_lip_model = syncnet_model[0]\n",
    "        syncnet_audio_model = syncnet_model[1]\n",
    "\n",
    "    # Init syncnet_layer_idx, to be incremented only at 'lip' layers\n",
    "    syncnet_layer_idx = -1\n",
    "\n",
    "    # Load weights layer-by-layer\n",
    "    for i in syncnet_layer_names:\n",
    "\n",
    "        # Skip the irrelevant layers\n",
    "        if mode == 'lip' and 'lip' not in i:\n",
    "            continue\n",
    "        elif mode == 'audio' and 'audio' not in i:\n",
    "            continue\n",
    "\n",
    "        # Increment the index on the model\n",
    "        syncnet_layer_idx += 1\n",
    "\n",
    "        if verbose:\n",
    "            print(\"  SyncNet Layer\", syncnet_layer_idx, \":\", i, \"; weight index :\", syncnet_weights_idx)\n",
    "\n",
    "        # Convolutional layer\n",
    "        if 'conv' in i:\n",
    "            syncnet_model.layers[syncnet_layer_idx].set_weights(\n",
    "                [np.transpose(syncnet_weights[syncnet_weights_idx], (2, 3, 1, 0)),\n",
    "                 np.squeeze(syncnet_weights[syncnet_weights_idx + 1])])\n",
    "            syncnet_weights_idx += 2\n",
    "\n",
    "        # Batch Normalization layer\n",
    "        elif 'bn' in i:\n",
    "            syncnet_model.layers[syncnet_layer_idx].set_weights(\n",
    "                [np.squeeze(syncnet_weights[syncnet_weights_idx]),\n",
    "                 np.squeeze(syncnet_weights[syncnet_weights_idx + 1]),\n",
    "                 syncnet_weights[syncnet_weights_idx + 2][0],\n",
    "                 syncnet_weights[syncnet_weights_idx + 2][1]])\n",
    "            syncnet_weights_idx += 3\n",
    "\n",
    "        # ReLU layer\n",
    "        elif 'relu' in i:\n",
    "            continue\n",
    "\n",
    "        # Pooling layer\n",
    "        elif 'pool' in i:\n",
    "            continue\n",
    "\n",
    "        # Dense (fc) layer\n",
    "        elif 'fc' in i:\n",
    "            # Skip Flatten layer\n",
    "            if 'flatten' in syncnet_model.layers[syncnet_layer_idx].name:\n",
    "                syncnet_layer_idx += 1\n",
    "            # Set weight to Dense layer\n",
    "            syncnet_model.layers[syncnet_layer_idx].set_weights(\n",
    "                [np.reshape(\n",
    "                    np.transpose(syncnet_weights[syncnet_weights_idx],\n",
    "                        (2, 3, 1, 0)),\n",
    "                    (syncnet_weights[syncnet_weights_idx].shape[2]*\\\n",
    "                     syncnet_weights[syncnet_weights_idx].shape[3]*\\\n",
    "                     syncnet_weights[syncnet_weights_idx].shape[1],\n",
    "                     syncnet_weights[syncnet_weights_idx].shape[0])),\n",
    "                np.squeeze(syncnet_weights[syncnet_weights_idx + 1])])\n",
    "            syncnet_weights_idx += 2\n"
   ]
  },
  {
   "cell_type": "code",
   "execution_count": 17,
   "metadata": {
    "id": "1f6n6s72swQz"
   },
   "outputs": [],
   "source": [
    "def load_pretrained_syncnet_model(mode, verbose):\n",
    "    ''' final function to call loading functions here and prepare the final model'''\n",
    "\n",
    "    # mode = {lip, audio, both}\n",
    "    if mode not in {'lip', 'audio', 'both'}:\n",
    "        print(\"\\n\\nERROR: 'mode' not defined properly! Expected one of {'lip', 'audio', 'both'}, got:\", mode, \"\\n\")\n",
    "        return\n",
    "\n",
    "    try:\n",
    "\n",
    "        # Load syncnet model\n",
    "        syncnet_model = load_syncnet_model(mode=mode, verbose=verbose)\n",
    "\n",
    "        if verbose:\n",
    "            print(\"Loaded syncnet model\")\n",
    "\n",
    "        # Read weights and layer names\n",
    "        syncnet_weights, syncnet_layer_names, audio_start_idx, lip_start_idx = load_syncnet_weights(verbose=verbose)\n",
    "\n",
    "        if verbose:\n",
    "            print(\"Loaded syncnet weights.\")\n",
    "\n",
    "        # Set lip weights to syncnet_model\n",
    "        if mode != 'both':\n",
    "            set_syncnet_weights_to_syncnet_model(syncnet_model=syncnet_model,\n",
    "                                                 syncnet_weights=syncnet_weights,\n",
    "                                                 syncnet_layer_names=syncnet_layer_names,\n",
    "                                                 mode=mode,\n",
    "                                                 verbose=verbose)\n",
    "        else:\n",
    "            # Audio\n",
    "            set_syncnet_weights_to_syncnet_model(syncnet_model=syncnet_model[0],\n",
    "                                                 syncnet_weights=syncnet_weights,\n",
    "                                                 syncnet_layer_names=syncnet_layer_names,\n",
    "                                                 mode='audio',\n",
    "                                                 verbose=verbose)\n",
    "            # Lip\n",
    "            set_syncnet_weights_to_syncnet_model(syncnet_model=syncnet_model[1],\n",
    "                                                 syncnet_weights=syncnet_weights,\n",
    "                                                 syncnet_layer_names=syncnet_layer_names,\n",
    "                                                 mode='lip',\n",
    "                                                 verbose=verbose)\n",
    "\n",
    "        if verbose:\n",
    "            print(\"Set syncnet weights.\")\n",
    "\n",
    "    except ValueError as err:\n",
    "        print(err)\n",
    "        return\n",
    "\n",
    "    except KeyboardInterrupt:\n",
    "        print(\"\\n\\nCtrl+C was pressed!\\n\")\n",
    "        return\n",
    "\n",
    "    return syncnet_model"
   ]
  },
  {
   "cell_type": "code",
   "execution_count": 18,
   "metadata": {
    "colab": {
     "base_uri": "https://localhost:8080/",
     "height": 1000
    },
    "id": "7esh7NB1swNd",
    "outputId": "f5f3fb7a-f654-4130-ec26-fe914d2cf13d"
   },
   "outputs": [
    {
     "name": "stdout",
     "output_type": "stream",
     "text": [
      "Loaded syncnet model\n",
      "Loading syncnet_weights from /content/gdrive/My Drive/lipsync_v4_73.mat\n",
      "Found audio\n",
      "   0 conv1_audio\n",
      "   1 bn1_audio\n",
      "   2 relu1_audio\n",
      "   3 conv2_audio\n",
      "   4 bn2_audio\n",
      "   5 relu2_audio\n",
      "   6 pool2_audio\n",
      "   7 conv3_audio\n",
      "   8 bn3_audio\n",
      "   9 relu3_audio\n",
      "   10 conv4_audio\n",
      "   11 bn4_audio\n",
      "   12 relu4_audio\n",
      "   13 conv5_audio\n",
      "   14 bn5_audio\n",
      "   15 relu5_audio\n",
      "   16 pool5_audio\n",
      "   17 fc6_audio\n",
      "   18 bn6_audio\n",
      "   19 relu6_audio\n",
      "   20 fc7_audio\n",
      "   21 bn7_audio\n",
      "   22 relu7_audio\n",
      "Found lip\n",
      "   23 conv1_lip\n",
      "   24 bn1_lip\n",
      "   25 relu1_lip\n",
      "   26 pool1_lip\n",
      "   27 conv2_lip\n",
      "   28 bn2_lip\n",
      "   29 relu2_lip\n",
      "   30 pool2_lip\n",
      "   31 conv3_lip\n",
      "   32 bn3_lip\n",
      "   33 relu3_lip\n",
      "   34 conv4_lip\n",
      "   35 bn4_lip\n",
      "   36 relu4_lip\n",
      "   37 conv5_lip\n",
      "   38 bn5_lip\n",
      "   39 relu5_lip\n",
      "   40 pool5_lip\n",
      "   41 fc6_lip\n",
      "   42 bn6_lip\n",
      "   43 relu6_lip\n",
      "   44 fc7_lip\n",
      "   45 bn7_lip\n",
      "   46 relu7_lip\n",
      "   47 dist\n",
      "   48 loss\n",
      "  lip_start_idx = 35\n",
      "  audio_start_idx = 0\n",
      "Loaded syncnet weights.\n",
      "Setting weights to model\n",
      "  SyncNet Layer 0 : conv1_audio ; weight index : 0\n",
      "  SyncNet Layer 1 : bn1_audio ; weight index : 2\n",
      "  SyncNet Layer 2 : relu1_audio ; weight index : 5\n",
      "  SyncNet Layer 3 : conv2_audio ; weight index : 5\n",
      "  SyncNet Layer 4 : bn2_audio ; weight index : 7\n",
      "  SyncNet Layer 5 : relu2_audio ; weight index : 10\n",
      "  SyncNet Layer 6 : pool2_audio ; weight index : 10\n",
      "  SyncNet Layer 7 : conv3_audio ; weight index : 10\n",
      "  SyncNet Layer 8 : bn3_audio ; weight index : 12\n",
      "  SyncNet Layer 9 : relu3_audio ; weight index : 15\n",
      "  SyncNet Layer 10 : conv4_audio ; weight index : 15\n",
      "  SyncNet Layer 11 : bn4_audio ; weight index : 17\n",
      "  SyncNet Layer 12 : relu4_audio ; weight index : 20\n",
      "  SyncNet Layer 13 : conv5_audio ; weight index : 20\n",
      "  SyncNet Layer 14 : bn5_audio ; weight index : 22\n",
      "  SyncNet Layer 15 : relu5_audio ; weight index : 25\n",
      "  SyncNet Layer 16 : pool5_audio ; weight index : 25\n",
      "  SyncNet Layer 17 : fc6_audio ; weight index : 25\n",
      "  SyncNet Layer 19 : bn6_audio ; weight index : 27\n",
      "  SyncNet Layer 20 : relu6_audio ; weight index : 30\n",
      "  SyncNet Layer 21 : fc7_audio ; weight index : 30\n",
      "  SyncNet Layer 22 : bn7_audio ; weight index : 32\n",
      "  SyncNet Layer 23 : relu7_audio ; weight index : 35\n",
      "Setting weights to model\n",
      "  SyncNet Layer 0 : conv1_lip ; weight index : 35\n",
      "  SyncNet Layer 1 : bn1_lip ; weight index : 37\n",
      "  SyncNet Layer 2 : relu1_lip ; weight index : 40\n",
      "  SyncNet Layer 3 : pool1_lip ; weight index : 40\n",
      "  SyncNet Layer 4 : conv2_lip ; weight index : 40\n",
      "  SyncNet Layer 5 : bn2_lip ; weight index : 42\n",
      "  SyncNet Layer 6 : relu2_lip ; weight index : 45\n",
      "  SyncNet Layer 7 : pool2_lip ; weight index : 45\n",
      "  SyncNet Layer 8 : conv3_lip ; weight index : 45\n",
      "  SyncNet Layer 9 : bn3_lip ; weight index : 47\n",
      "  SyncNet Layer 10 : relu3_lip ; weight index : 50\n",
      "  SyncNet Layer 11 : conv4_lip ; weight index : 50\n",
      "  SyncNet Layer 12 : bn4_lip ; weight index : 52\n",
      "  SyncNet Layer 13 : relu4_lip ; weight index : 55\n",
      "  SyncNet Layer 14 : conv5_lip ; weight index : 55\n",
      "  SyncNet Layer 15 : bn5_lip ; weight index : 57\n",
      "  SyncNet Layer 16 : relu5_lip ; weight index : 60\n",
      "  SyncNet Layer 17 : pool5_lip ; weight index : 60\n",
      "  SyncNet Layer 18 : fc6_lip ; weight index : 60\n",
      "  SyncNet Layer 20 : bn6_lip ; weight index : 62\n",
      "  SyncNet Layer 21 : relu6_lip ; weight index : 65\n",
      "  SyncNet Layer 22 : fc7_lip ; weight index : 65\n",
      "  SyncNet Layer 23 : bn7_lip ; weight index : 67\n",
      "  SyncNet Layer 24 : relu7_lip ; weight index : 70\n",
      "Set syncnet weights.\n"
     ]
    }
   ],
   "source": [
    "# calling function to load model with weights\n",
    "\n",
    "mode = 'both'\n",
    "model=load_pretrained_syncnet_model( mode=mode, verbose=True)"
   ]
  },
  {
   "cell_type": "code",
   "execution_count": 19,
   "metadata": {
    "colab": {
     "base_uri": "https://localhost:8080/",
     "height": 50
    },
    "id": "n5Bd1PVeYhOQ",
    "outputId": "dfdb8e8b-da8e-407f-fb99-7ae574545ade"
   },
   "outputs": [
    {
     "data": {
      "text/plain": [
       "[<tensorflow.python.keras.engine.sequential.Sequential at 0x7fdca3df2e10>,\n",
       " <tensorflow.python.keras.engine.sequential.Sequential at 0x7fdcaa5b22e8>]"
      ]
     },
     "execution_count": 19,
     "metadata": {
      "tags": []
     },
     "output_type": "execute_result"
    }
   ],
   "source": [
    "model"
   ]
  },
  {
   "cell_type": "code",
   "execution_count": 20,
   "metadata": {
    "colab": {
     "base_uri": "https://localhost:8080/",
     "height": 958
    },
    "id": "MhcUj-gyftNb",
    "outputId": "c4aa8fd6-087b-4be5-a428-a4e9e103cb3d"
   },
   "outputs": [
    {
     "name": "stdout",
     "output_type": "stream",
     "text": [
      "Model: \"sequential_1\"\n",
      "_________________________________________________________________\n",
      "Layer (type)                 Output Shape              Param #   \n",
      "=================================================================\n",
      "conv1_audio (Conv2D)         (None, 12, 20, 64)        640       \n",
      "_________________________________________________________________\n",
      "bn1_audio (BatchNormalizatio (None, 12, 20, 64)        256       \n",
      "_________________________________________________________________\n",
      "relu1_audio (Activation)     (None, 12, 20, 64)        0         \n",
      "_________________________________________________________________\n",
      "conv2_audio (Conv2D)         (None, 12, 20, 128)       73856     \n",
      "_________________________________________________________________\n",
      "bn2_audio (BatchNormalizatio (None, 12, 20, 128)       512       \n",
      "_________________________________________________________________\n",
      "relu2_audio (Activation)     (None, 12, 20, 128)       0         \n",
      "_________________________________________________________________\n",
      "pool2_audio (MaxPooling2D)   (None, 12, 9, 128)        0         \n",
      "_________________________________________________________________\n",
      "conv3_audio (Conv2D)         (None, 12, 9, 256)        295168    \n",
      "_________________________________________________________________\n",
      "bn3_audio (BatchNormalizatio (None, 12, 9, 256)        1024      \n",
      "_________________________________________________________________\n",
      "relu3_audio (Activation)     (None, 12, 9, 256)        0         \n",
      "_________________________________________________________________\n",
      "conv4_audio (Conv2D)         (None, 12, 9, 256)        590080    \n",
      "_________________________________________________________________\n",
      "bn4_audio (BatchNormalizatio (None, 12, 9, 256)        1024      \n",
      "_________________________________________________________________\n",
      "relu4_audio (Activation)     (None, 12, 9, 256)        0         \n",
      "_________________________________________________________________\n",
      "conv5_audio (Conv2D)         (None, 12, 9, 256)        590080    \n",
      "_________________________________________________________________\n",
      "bn5_audio (BatchNormalizatio (None, 12, 9, 256)        1024      \n",
      "_________________________________________________________________\n",
      "relu5_audio (Activation)     (None, 12, 9, 256)        0         \n",
      "_________________________________________________________________\n",
      "pool5_audio (MaxPooling2D)   (None, 5, 4, 256)         0         \n",
      "_________________________________________________________________\n",
      "flatten_audio (Flatten)      (None, 5120)              0         \n",
      "_________________________________________________________________\n",
      "fc6_audio (Dense)            (None, 256)               1310976   \n",
      "_________________________________________________________________\n",
      "bn6_audio (BatchNormalizatio (None, 256)               1024      \n",
      "_________________________________________________________________\n",
      "relu6_audio (Activation)     (None, 256)               0         \n",
      "_________________________________________________________________\n",
      "fc7_audio (Dense)            (None, 128)               32896     \n",
      "_________________________________________________________________\n",
      "bn7_audio (BatchNormalizatio (None, 128)               512       \n",
      "_________________________________________________________________\n",
      "relu7_audio (Activation)     (None, 128)               0         \n",
      "=================================================================\n",
      "Total params: 2,899,072\n",
      "Trainable params: 2,896,384\n",
      "Non-trainable params: 2,688\n",
      "_________________________________________________________________\n"
     ]
    }
   ],
   "source": [
    "model[0].summary()"
   ]
  },
  {
   "cell_type": "code",
   "execution_count": 21,
   "metadata": {
    "colab": {
     "base_uri": "https://localhost:8080/",
     "height": 991
    },
    "id": "JP2iEX12wweY",
    "outputId": "5a9334af-fcc7-45ab-e870-f6ba95791971"
   },
   "outputs": [
    {
     "name": "stdout",
     "output_type": "stream",
     "text": [
      "Model: \"sequential\"\n",
      "_________________________________________________________________\n",
      "Layer (type)                 Output Shape              Param #   \n",
      "=================================================================\n",
      "conv1_lip (Conv2D)           (None, 110, 110, 96)      4416      \n",
      "_________________________________________________________________\n",
      "bn1_lip (BatchNormalization) (None, 110, 110, 96)      384       \n",
      "_________________________________________________________________\n",
      "relu1_lip (Activation)       (None, 110, 110, 96)      0         \n",
      "_________________________________________________________________\n",
      "pool1_lip (MaxPooling2D)     (None, 54, 54, 96)        0         \n",
      "_________________________________________________________________\n",
      "conv2_lip (Conv2D)           (None, 50, 50, 256)       614656    \n",
      "_________________________________________________________________\n",
      "bn2_lip (BatchNormalization) (None, 50, 50, 256)       1024      \n",
      "_________________________________________________________________\n",
      "relu2_lip (Activation)       (None, 50, 50, 256)       0         \n",
      "_________________________________________________________________\n",
      "pool2_lip (MaxPooling2D)     (None, 24, 24, 256)       0         \n",
      "_________________________________________________________________\n",
      "conv3_lip (Conv2D)           (None, 22, 22, 512)       1180160   \n",
      "_________________________________________________________________\n",
      "bn3_lip (BatchNormalization) (None, 22, 22, 512)       2048      \n",
      "_________________________________________________________________\n",
      "relu3_lip (Activation)       (None, 22, 22, 512)       0         \n",
      "_________________________________________________________________\n",
      "conv4_lip (Conv2D)           (None, 20, 20, 512)       2359808   \n",
      "_________________________________________________________________\n",
      "bn4_lip (BatchNormalization) (None, 20, 20, 512)       2048      \n",
      "_________________________________________________________________\n",
      "relu4_lip (Activation)       (None, 20, 20, 512)       0         \n",
      "_________________________________________________________________\n",
      "conv5_lip (Conv2D)           (None, 18, 18, 512)       2359808   \n",
      "_________________________________________________________________\n",
      "bn5_lip (BatchNormalization) (None, 18, 18, 512)       2048      \n",
      "_________________________________________________________________\n",
      "relu5_lip (Activation)       (None, 18, 18, 512)       0         \n",
      "_________________________________________________________________\n",
      "pool5_lip (MaxPooling2D)     (None, 6, 6, 512)         0         \n",
      "_________________________________________________________________\n",
      "flatten_lip (Flatten)        (None, 18432)             0         \n",
      "_________________________________________________________________\n",
      "fc6_lip (Dense)              (None, 256)               4718848   \n",
      "_________________________________________________________________\n",
      "bn6_lip (BatchNormalization) (None, 256)               1024      \n",
      "_________________________________________________________________\n",
      "relu6_lip (Activation)       (None, 256)               0         \n",
      "_________________________________________________________________\n",
      "fc7_lip (Dense)              (None, 128)               32896     \n",
      "_________________________________________________________________\n",
      "bn7_lip (BatchNormalization) (None, 128)               512       \n",
      "_________________________________________________________________\n",
      "relu7_lip (Activation)       (None, 128)               0         \n",
      "=================================================================\n",
      "Total params: 11,279,680\n",
      "Trainable params: 11,275,136\n",
      "Non-trainable params: 4,544\n",
      "_________________________________________________________________\n"
     ]
    }
   ],
   "source": [
    "model[1].summary()"
   ]
  },
  {
   "cell_type": "markdown",
   "metadata": {
    "id": "50hGYQ7zyfQa"
   },
   "source": [
    "# Evaluation\n",
    "\n",
    "1: Real\n",
    "0: Fake"
   ]
  },
  {
   "cell_type": "code",
   "execution_count": null,
   "metadata": {
    "id": "kmLX8POCdliC"
   },
   "outputs": [],
   "source": [
    "# for evaluation calculating euclidian distance in numpy\n",
    "\n",
    "def euclidian_distance(data_1, data_2): \n",
    "    dist = np.sqrt( np.sum(np.square(data_1 - data_2), axis=-1) )\n",
    "    return dist\n",
    "\n",
    "def distance_euc(feat1,feat2,vshift):\n",
    "  ''' takes 2 arrays as input and return euclidian distance between those '''\n",
    "  \n",
    "  win_size = vshift*2+1\n",
    "  n = np.pad(feat2, vshift, mode='constant')  \n",
    "  feat2p = n[:,:feat2.shape[1]]\n",
    "  #print(feat2p.shape)\n",
    "  \n",
    "  if feat1.shape[0]+win_size != feat2p.shape[0]:\n",
    "    n=abs(feat1.shape[0]+win_size - feat2p.shape[0])\n",
    "    if feat1.shape[0]+win_size<feat2p.shape[0]:\n",
    "      pass\n",
    "    elif feat1.shape[0]+win_size>feat2p.shape[0]:\n",
    "      low = feat2p\n",
    "      high = feat1\n",
    "      for i in range(n):\n",
    "        temp=[0 for j in range(len(feat1[0]))]\n",
    "        low=np.append(low,temp)\n",
    "     # print(low.shape,high.shape)\n",
    "\n",
    "      low.shape=(feat1.shape[0]+win_size,len(feat1[0]))\n",
    "\n",
    "      if low.shape[0]<high.shape[0]:\n",
    "        feat1=low\n",
    "        feat2p=high\n",
    "      elif low.shape[0]>high.shape[0]:\n",
    "        feat1=high\n",
    "        feat2p=low\n",
    "\n",
    "  dists = []\n",
    "  for i in range(0,len(feat1)):\n",
    "    a=feat1[[i],:].repeat(win_size, 1)\n",
    "    a.shape=(win_size,feat1.shape[1])\n",
    "    b=feat2p[i:i+win_size,:]\n",
    "    \n",
    "    dists.append(euclidian_distance(a, b))\n",
    "  return dists"
   ]
  },
  {
   "cell_type": "markdown",
   "metadata": {
    "id": "oyhi6sT9eIyb"
   },
   "source": [
    "Here we are going to each video file and creating features for both video and audio, then predicting the final array for both with pre trained syncnet model. Then calculating euclidian distance between those predicted arrays. Then calculating confidence with (median - min). On the basis of confidence will classify the video as real or fake later."
   ]
  },
  {
   "cell_type": "markdown",
   "metadata": {
    "id": "Ky0Jr5wp5XgR"
   },
   "source": [
    "## for non tampered videos"
   ]
  },
  {
   "cell_type": "code",
   "execution_count": null,
   "metadata": {
    "colab": {
     "base_uri": "https://localhost:8080/",
     "height": 1000
    },
    "id": "xZRH1JbQskD3",
    "outputId": "ad5c374b-987a-4c76-d873-a6c5de81912e"
   },
   "outputs": [
    {
     "name": "stdout",
     "output_type": "stream",
     "text": [
      "1 file processed\n",
      "2 file processed\n",
      "3 file processed\n",
      "4 file processed\n",
      "5 file processed\n",
      "6 file processed\n",
      "7 file processed\n",
      "8 file processed\n",
      "9 file processed\n",
      "10 file processed\n",
      "11 file processed\n",
      "12 file processed\n",
      "13 file processed\n",
      "14 file processed\n",
      "15 file processed\n",
      "16 file processed\n",
      "17 file processed\n",
      "18 file processed\n",
      "19 file processed\n",
      "20 file processed\n",
      "21 file processed\n",
      "22 file processed\n",
      "23 file processed\n",
      "24 file processed\n",
      "25 file processed\n",
      "26 file processed\n",
      "27 file processed\n",
      "28 file processed\n",
      "29 file processed\n",
      "30 file processed\n",
      "31 file processed\n",
      "32 file processed\n",
      "33 file processed\n",
      "34 file processed\n",
      "35 file processed\n",
      "36 file processed\n",
      "37 file processed\n",
      "38 file processed\n",
      "39 file processed\n",
      "40 file processed\n",
      "41 file processed\n",
      "42 file processed\n",
      "43 file processed\n",
      "44 file processed\n",
      "45 file processed\n",
      "46 file processed\n",
      "47 file processed\n",
      "48 file processed\n",
      "49 file processed\n",
      "50 file processed\n",
      "51 file processed\n",
      "52 file processed\n",
      "53 file processed\n",
      "54 file processed\n",
      "55 file processed\n",
      "56 file processed\n",
      "57 file processed\n",
      "58 file processed\n",
      "59 file processed\n",
      "60 file processed\n",
      "61 file processed\n",
      "62 file processed\n",
      "63 file processed\n",
      "64 file processed\n",
      "65 file processed\n",
      "66 file processed\n",
      "67 file processed\n",
      "68 file processed\n",
      "69 file processed\n",
      "70 file processed\n",
      "71 file processed\n",
      "72 file processed\n",
      "73 file processed\n",
      "74 file processed\n",
      "75 file processed\n",
      "76 file processed\n",
      "77 file processed\n",
      "78 file processed\n",
      "79 file processed\n",
      "80 file processed\n",
      "81 file processed\n",
      "82 file processed\n",
      "83 file processed\n",
      "84 file processed\n",
      "85 file processed\n",
      "86 file processed\n",
      "87 file processed\n",
      "88 file processed\n",
      "89 file processed\n",
      "90 file processed\n",
      "91 file processed\n",
      "92 file processed\n",
      "93 file processed\n",
      "94 file processed\n",
      "95 file processed\n",
      "96 file processed\n",
      "97 file processed\n",
      "98 file processed\n",
      "99 file processed\n",
      "100 file processed\n",
      "101 file processed\n",
      "102 file processed\n",
      "103 file processed\n",
      "104 file processed\n",
      "105 file processed\n",
      "106 file processed\n",
      "107 file processed\n",
      "108 file processed\n",
      "109 file processed\n",
      "110 file processed\n",
      "111 file processed\n",
      "112 file processed\n",
      "113 file processed\n",
      "114 file processed\n",
      "115 file processed\n",
      "116 file processed\n",
      "117 file processed\n",
      "118 file processed\n",
      "119 file processed\n",
      "120 file processed\n",
      "121 file processed\n",
      "122 file processed\n",
      "123 file processed\n",
      "124 file processed\n",
      "125 file processed\n",
      "126 file processed\n",
      "127 file processed\n",
      "128 file processed\n",
      "129 file processed\n",
      "130 file processed\n",
      "131 file processed\n",
      "132 file processed\n",
      "133 file processed\n",
      "134 file processed\n",
      "135 file processed\n",
      "136 file processed\n",
      "137 file processed\n",
      "138 file processed\n",
      "139 file processed\n",
      "140 file processed\n",
      "141 file processed\n",
      "142 file processed\n",
      "143 file processed\n",
      "144 file processed\n",
      "145 file processed\n",
      "146 file processed\n",
      "147 file processed\n",
      "148 file processed\n",
      "149 file processed\n",
      "150 file processed\n",
      "151 file processed\n",
      "152 file processed\n",
      "153 file processed\n",
      "154 file processed\n",
      "155 file processed\n",
      "156 file processed\n",
      "157 file processed\n",
      "158 file processed\n",
      "159 file processed\n",
      "160 file processed\n",
      "161 file processed\n",
      "162 file processed\n",
      "163 file processed\n",
      "164 file processed\n",
      "165 file processed\n",
      "166 file processed\n",
      "167 file processed\n",
      "168 file processed\n",
      "169 file processed\n",
      "170 file processed\n",
      "171 file processed\n",
      "172 file processed\n",
      "173 file processed\n",
      "174 file processed\n",
      "175 file processed\n",
      "176 file processed\n",
      "177 file processed\n",
      "178 file processed\n",
      "179 file processed\n",
      "180 file processed\n",
      "181 file processed\n",
      "182 file processed\n",
      "183 file processed\n",
      "184 file processed\n",
      "185 file processed\n",
      "186 file processed\n",
      "187 file processed\n",
      "188 file processed\n",
      "189 file processed\n",
      "190 file processed\n",
      "191 file processed\n",
      "192 file processed\n",
      "193 file processed\n",
      "194 file processed\n",
      "195 file processed\n",
      "196 file processed\n",
      "197 file processed\n",
      "198 file processed\n",
      "199 file processed\n",
      "200 file processed\n",
      "201 file processed\n",
      "202 file processed\n",
      "203 file processed\n",
      "204 file processed\n",
      "205 file processed\n",
      "206 file processed\n",
      "207 file processed\n",
      "208 file processed\n",
      "209 file processed\n",
      "210 file processed\n",
      "211 file processed\n",
      "212 file processed\n",
      "213 file processed\n",
      "214 file processed\n",
      "215 file processed\n",
      "216 file processed\n",
      "217 file processed\n",
      "218 file processed\n",
      "219 file processed\n",
      "220 file processed\n",
      "221 file processed\n",
      "222 file processed\n",
      "223 file processed\n",
      "224 file processed\n",
      "225 file processed\n",
      "226 file processed\n",
      "227 file processed\n",
      "228 file processed\n",
      "229 file processed\n",
      "230 file processed\n",
      "231 file processed\n",
      "232 file processed\n",
      "233 file processed\n",
      "234 file processed\n",
      "235 file processed\n",
      "236 file processed\n",
      "237 file processed\n",
      "238 file processed\n",
      "239 file processed\n",
      "240 file processed\n",
      "241 file processed\n",
      "242 file processed\n",
      "243 file processed\n",
      "244 file processed\n",
      "245 file processed\n",
      "246 file processed\n",
      "247 file processed\n",
      "248 file processed\n",
      "249 file processed\n",
      "250 file processed\n",
      "251 file processed\n",
      "252 file processed\n",
      "253 file processed\n",
      "254 file processed\n",
      "255 file processed\n",
      "256 file processed\n",
      "257 file processed\n",
      "258 file processed\n",
      "259 file processed\n",
      "260 file processed\n",
      "261 file processed\n",
      "262 file processed\n",
      "263 file processed\n",
      "264 file processed\n",
      "265 file processed\n",
      "266 file processed\n",
      "267 file processed\n",
      "268 file processed\n",
      "269 file processed\n",
      "270 file processed\n",
      "271 file processed\n",
      "272 file processed\n",
      "273 file processed\n",
      "274 file processed\n",
      "275 file processed\n",
      "276 file processed\n",
      "277 file processed\n",
      "278 file processed\n",
      "279 file processed\n",
      "280 file processed\n",
      "281 file processed\n",
      "282 file processed\n",
      "283 file processed\n",
      "284 file processed\n",
      "285 file processed\n",
      "286 file processed\n",
      "287 file processed\n",
      "288 file processed\n",
      "289 file processed\n",
      "290 file processed\n",
      "291 file processed\n",
      "292 file processed\n",
      "293 file processed\n",
      "294 file processed\n",
      "295 file processed\n",
      "296 file processed\n",
      "297 file processed\n",
      "298 file processed\n",
      "299 file processed\n",
      "300 file processed\n",
      "301 file processed\n",
      "302 file processed\n",
      "303 file processed\n",
      "304 file processed\n",
      "305 file processed\n",
      "306 file processed\n",
      "307 file processed\n",
      "308 file processed\n",
      "309 file processed\n",
      "310 file processed\n",
      "311 file processed\n",
      "312 file processed\n",
      "313 file processed\n",
      "314 file processed\n",
      "315 file processed\n",
      "316 file processed\n",
      "317 file processed\n",
      "318 file processed\n",
      "319 file processed\n",
      "320 file processed\n",
      "321 file processed\n",
      "322 file processed\n",
      "323 file processed\n",
      "324 file processed\n",
      "325 file processed\n",
      "326 file processed\n",
      "327 file processed\n",
      "328 file processed\n",
      "329 file processed\n",
      "330 file processed\n",
      "331 file processed\n",
      "332 file processed\n",
      "333 file processed\n",
      "334 file processed\n",
      "335 file processed\n",
      "336 file processed\n",
      "337 file processed\n",
      "338 file processed\n",
      "339 file processed\n",
      "340 file processed\n",
      "341 file processed\n",
      "342 file processed\n",
      "343 file processed\n",
      "344 file processed\n",
      "345 file processed\n",
      "346 file processed\n",
      "347 file processed\n",
      "348 file processed\n",
      "349 file processed\n",
      "350 file processed\n",
      "351 file processed\n",
      "352 file processed\n",
      "353 file processed\n",
      "354 file processed\n",
      "355 file processed\n",
      "356 file processed\n",
      "357 file processed\n",
      "358 file processed\n",
      "359 file processed\n",
      "360 file processed\n",
      "361 file processed\n",
      "362 file processed\n",
      "363 file processed\n",
      "364 file processed\n",
      "365 file processed\n",
      "366 file processed\n",
      "367 file processed\n",
      "368 file processed\n",
      "369 file processed\n",
      "370 file processed\n",
      "371 file processed\n",
      "372 file processed\n",
      "373 file processed\n",
      "374 file processed\n",
      "375 file processed\n",
      "376 file processed\n",
      "377 file processed\n",
      "378 file processed\n",
      "379 file processed\n",
      "380 file processed\n",
      "381 file processed\n",
      "382 file processed\n",
      "383 file processed\n",
      "384 file processed\n",
      "385 file processed\n",
      "386 file processed\n",
      "387 file processed\n",
      "388 file processed\n",
      "389 file processed\n",
      "390 file processed\n",
      "391 file processed\n",
      "392 file processed\n",
      "393 file processed\n",
      "394 file processed\n",
      "395 file processed\n",
      "396 file processed\n",
      "397 file processed\n",
      "398 file processed\n",
      "399 file processed\n",
      "400 file processed\n",
      "401 file processed\n",
      "402 file processed\n",
      "403 file processed\n",
      "404 file processed\n",
      "405 file processed\n",
      "406 file processed\n",
      "407 file processed\n",
      "408 file processed\n",
      "409 file processed\n",
      "410 file processed\n",
      "411 file processed\n",
      "412 file processed\n",
      "413 file processed\n",
      "414 file processed\n",
      "415 file processed\n",
      "416 file processed\n",
      "417 file processed\n",
      "418 file processed\n",
      "419 file processed\n",
      "420 file processed\n",
      "421 file processed\n",
      "422 file processed\n",
      "423 file processed\n",
      "424 file processed\n",
      "425 file processed\n",
      "426 file processed\n",
      "427 file processed\n",
      "428 file processed\n",
      "429 file processed\n",
      "430 file processed\n"
     ]
    }
   ],
   "source": [
    "\n",
    "non_tamp_video_files=os.listdir('/content/gdrive/My Drive/vidtimit_videos/non_tampered')\n",
    "\n",
    "non_tamp_conf=[]\n",
    "\n",
    "c=0\n",
    "for file in non_tamp_video_files:\n",
    "  c=c+1\n",
    "  video='/content/gdrive/My Drive/vidtimit_videos/non_tampered/'+file\n",
    "  user=video.split('_')[2]\n",
    "  user=user.split('/')[1]\n",
    "  au=video.split('_')[-1]\n",
    "  au=au.split('.')[0]\n",
    "\n",
    "  video_fea=video_processing(video)\n",
    "  audio_fea=audio_processing('/content/gdrive/My Drive/VIDTIMIT/'+user+'/audio/'+au+'.wav',False)\n",
    "  \n",
    "\n",
    "  audio_pred = model[0].predict(audio_fea)\n",
    "  #non_tamp_aud_features.append(audio_pred)\n",
    "  lip_pred = model[1].predict(video_fea)\n",
    "  #non_tamp_vid_features.append(lip_pred)\n",
    "\n",
    "  dists = distance_euc(lip_pred, audio_pred, 15)\n",
    "  mdist = np.mean(np.stack(dists,1),1)\n",
    "  conf = np.median(mdist)-min(mdist)\n",
    "  non_tamp_conf.append(conf)\n",
    "  print(c, 'file processed')"
   ]
  },
  {
   "cell_type": "code",
   "execution_count": null,
   "metadata": {
    "id": "H956XYcc9d8X"
   },
   "outputs": [],
   "source": [
    "np.save('/content/gdrive/My Drive/non_tamp_conf_EucDis',non_tamp_conf)"
   ]
  },
  {
   "cell_type": "markdown",
   "metadata": {
    "id": "zHgbLUI-5cg_"
   },
   "source": [
    "## for tampered videos"
   ]
  },
  {
   "cell_type": "code",
   "execution_count": null,
   "metadata": {
    "id": "sXSqlgttylwX"
   },
   "outputs": [],
   "source": [
    "tamp_video_files=os.listdir('/content/gdrive/My Drive/vidtimit_videos/tampered')\n",
    "\n",
    "tamp_conf=[]\n",
    "\n",
    "c=0\n",
    "for file in tamp_video_files:\n",
    "  c=c+1\n",
    "  video='/content/gdrive/My Drive/vidtimit_videos/tampered/'+file\n",
    "  user=video.split('_')[2]\n",
    "  au=video.split('_')[-1]\n",
    "  au=au.split('.')[0]\n",
    "\n",
    "  video_fea=video_processing(video)\n",
    "  audio_fea=audio_processing('/content/gdrive/My Drive/VIDTIMIT/'+user+'/audio/'+au+'.wav',False)\n",
    "\n",
    "  audio_pred = model[0].predict(audio_fea)\n",
    "  #print(audio_pred.shape)\n",
    "  lip_pred = model[1].predict(video_fea)\n",
    "  #print(lip_pred.shape)\n",
    "  \n",
    "  dists = distance_euc(lip_pred, audio_pred, 15)\n",
    "  mdist = np.mean(np.stack(dists,1),1)\n",
    "  conf=np.median(mdist)-min(mdist)\n",
    "  tamp_conf.append(conf)\n",
    "  print(c, 'file processed')"
   ]
  },
  {
   "cell_type": "code",
   "execution_count": null,
   "metadata": {
    "id": "TQ72oyM_v5Gy"
   },
   "outputs": [],
   "source": [
    "np.save('/content/gdrive/My Drive/tamp_conf',tamp_conf)"
   ]
  },
  {
   "cell_type": "markdown",
   "metadata": {
    "id": "LFylWurUkMpV"
   },
   "source": [
    "## prediction and evaluation\n",
    "\n",
    "P --> 1 --> real\n",
    "\n",
    "N --> 0 --> fake\n",
    "\n",
    "FPs --> fake as real --> less\n",
    "\n",
    "precision as metric"
   ]
  },
  {
   "cell_type": "code",
   "execution_count": null,
   "metadata": {
    "id": "5UD0BMsYyV7m"
   },
   "outputs": [],
   "source": [
    "import sklearn.metrics as sm\n",
    "from matplotlib import pyplot as plt\n"
   ]
  },
  {
   "cell_type": "code",
   "execution_count": null,
   "metadata": {
    "colab": {
     "base_uri": "https://localhost:8080/",
     "height": 34
    },
    "id": "88Lc13Gc931h",
    "outputId": "1383ac33-1a9d-4394-e73e-c903020fbbec"
   },
   "outputs": [
    {
     "data": {
      "text/plain": [
       "(430,)"
      ]
     },
     "execution_count": 6,
     "metadata": {
      "tags": []
     },
     "output_type": "execute_result"
    }
   ],
   "source": [
    "ntc=np.load('/content/gdrive/My Drive/non_tamp_conf_EucDis.npy',allow_pickle=True)\n",
    "ntc.shape"
   ]
  },
  {
   "cell_type": "code",
   "execution_count": null,
   "metadata": {
    "colab": {
     "base_uri": "https://localhost:8080/",
     "height": 34
    },
    "id": "padUp9_mkauk",
    "outputId": "b159fa2f-25cd-4bda-a413-71d48ecc1ac1"
   },
   "outputs": [
    {
     "data": {
      "text/plain": [
       "(1287,)"
      ]
     },
     "execution_count": 7,
     "metadata": {
      "tags": []
     },
     "output_type": "execute_result"
    }
   ],
   "source": [
    "tamp_conf = np.load('/content/gdrive/My Drive/tamp_conf.npy',allow_pickle=True)\n",
    "tamp_conf.shape"
   ]
  },
  {
   "cell_type": "code",
   "execution_count": null,
   "metadata": {
    "colab": {
     "base_uri": "https://localhost:8080/",
     "height": 295
    },
    "id": "SXQZih_0yUNR",
    "outputId": "b4e28817-bf54-4c7a-b35d-2a2963ef40d0"
   },
   "outputs": [
    {
     "data": {
      "image/png": "[encoded data removed]",
      "text/plain": [
       "<Figure size 432x288 with 1 Axes>"
      ]
     },
     "metadata": {
      "needs_background": "light",
      "tags": []
     },
     "output_type": "display_data"
    }
   ],
   "source": [
    "fig,ax=plt.subplots(1,1)\n",
    "\n",
    "ax.hist(ntc, bins = [0,1,2,3,4,5,6,7,8,9])\n",
    "ax.hist(tamp_conf, bins = [0,1,2,3,4,5,6,7,8,9])\n",
    "ax.set_title(\"Histograms for confidence levels\")\n",
    "ax.set_xticks([0,1,2,3,4,5,6,7,8,9])\n",
    "ax.set_xlabel('confidence levels')\n",
    "ax.set_ylabel('pdf')\n",
    "plt.legend(['Real videos confidence', 'Fake videos confidence'])\n",
    "plt.show()"
   ]
  },
  {
   "cell_type": "markdown",
   "metadata": {
    "id": "BX4fJsvhAas0"
   },
   "source": [
    "Observation:\n",
    "\n",
    "we can observe clearly that lower values of confidence are for tampered/fake videos and higher values of confidence are for real/non-tampered videos. So we can clearly classify them into real or fake on the basis of confidence values."
   ]
  },
  {
   "cell_type": "code",
   "execution_count": null,
   "metadata": {
    "colab": {
     "base_uri": "https://localhost:8080/",
     "height": 34
    },
    "id": "huH7KWY9HJhD",
    "outputId": "cca72b7a-bdc7-473c-ae1b-b550b05801eb"
   },
   "outputs": [
    {
     "data": {
      "text/plain": [
       "1717"
      ]
     },
     "execution_count": 8,
     "metadata": {
      "tags": []
     },
     "output_type": "execute_result"
    }
   ],
   "source": [
    "# combining tampered and non tampered confidences\n",
    "\n",
    "conf=[]\n",
    "for i in ntc:\n",
    "  conf.append(i)\n",
    "for i in tamp_conf:\n",
    "  conf.append(i)\n",
    "len(conf)"
   ]
  },
  {
   "cell_type": "code",
   "execution_count": null,
   "metadata": {
    "colab": {
     "base_uri": "https://localhost:8080/",
     "height": 34
    },
    "id": "HoolYCUILm1w",
    "outputId": "77cb5511-a75d-4f68-b6de-453491f1313e"
   },
   "outputs": [
    {
     "data": {
      "text/plain": [
       "1717"
      ]
     },
     "execution_count": 9,
     "metadata": {
      "tags": []
     },
     "output_type": "execute_result"
    }
   ],
   "source": [
    "# true labels for tampered and non tampered videos\n",
    "\n",
    "true_label=[1 for i in range(430)]\n",
    "true_labe=[0 for i in range(1287)]\n",
    "\n",
    "y_true=true_label+true_labe\n",
    "len(y_true)"
   ]
  },
  {
   "cell_type": "code",
   "execution_count": null,
   "metadata": {
    "colab": {
     "base_uri": "https://localhost:8080/",
     "height": 34
    },
    "id": "5xwMgXgfA8vL",
    "outputId": "8e24f8e1-cb34-445b-bee5-3ff1a3464862"
   },
   "outputs": [
    {
     "name": "stdout",
     "output_type": "stream",
     "text": [
      "360\n"
     ]
    }
   ],
   "source": [
    "# finding threshold to classify real or fake. Checking values between 2 to 4.\n",
    "\n",
    "threshold=[]\n",
    "for i in conf:\n",
    "  if i>2 and i<4:\n",
    "    threshold.append(i)\n",
    "print(len(threshold))\n",
    "threshold.sort()"
   ]
  },
  {
   "cell_type": "code",
   "execution_count": null,
   "metadata": {
    "id": "9zX0-hDxA9Z9"
   },
   "outputs": [],
   "source": [
    "recall_metric=[]\n",
    "pr=[]\n",
    "for i in threshold:\n",
    "  pred=[]\n",
    "  for j in conf:\n",
    "    if j>i:\n",
    "      pred.append(1)\n",
    "    else:\n",
    "      pred.append(0)\n",
    "  recall_metric.append(sm.recall_score(y_true, pred))\n",
    "  pr.append(sm.precision_score(y_true, pred))\n"
   ]
  },
  {
   "cell_type": "code",
   "execution_count": null,
   "metadata": {
    "colab": {
     "base_uri": "https://localhost:8080/",
     "height": 34
    },
    "id": "1f6ZYBBMFIMx",
    "outputId": "15cef509-aa82-4f8c-dc86-1588dfe6dd17"
   },
   "outputs": [
    {
     "data": {
      "text/plain": [
       "(1.0, 354)"
      ]
     },
     "execution_count": 87,
     "metadata": {
      "tags": []
     },
     "output_type": "execute_result"
    }
   ],
   "source": [
    "max(pr),np.argmax(pr)"
   ]
  },
  {
   "cell_type": "code",
   "execution_count": null,
   "metadata": {
    "colab": {
     "base_uri": "https://localhost:8080/",
     "height": 34
    },
    "id": "eXTjqtCKPzhH",
    "outputId": "a85b464e-cfbb-4121-907a-c74b4d67bfdc"
   },
   "outputs": [
    {
     "data": {
      "text/plain": [
       "3.8912553787231445"
      ]
     },
     "execution_count": 11,
     "metadata": {
      "tags": []
     },
     "output_type": "execute_result"
    }
   ],
   "source": [
    "threshold[354]"
   ]
  },
  {
   "cell_type": "markdown",
   "metadata": {
    "id": "BVCkTuyAST17"
   },
   "source": [
    "We can use '3.8912553787231445' as the threshold value, also from above graph we can see 3.5 can be the good threshold point. So will check with both and compare which threshold is better."
   ]
  },
  {
   "cell_type": "code",
   "execution_count": null,
   "metadata": {
    "colab": {
     "base_uri": "https://localhost:8080/",
     "height": 134
    },
    "id": "E2TL9kRqGQlw",
    "outputId": "381a3fcc-cb3f-48f1-cf2f-9cf83f4e81d3"
   },
   "outputs": [
    {
     "name": "stdout",
     "output_type": "stream",
     "text": [
      "0.8730343622597554\n",
      "0.660436137071651\n",
      "1.0\n",
      "0.4930232558139535\n",
      "0.7465116279069768\n"
     ]
    },
    {
     "data": {
      "text/plain": [
       "array([[1287,    0],\n",
       "       [ 218,  212]])"
      ]
     },
     "execution_count": 12,
     "metadata": {
      "tags": []
     },
     "output_type": "execute_result"
    }
   ],
   "source": [
    "y_pred=[]\n",
    "for i in conf:\n",
    "  if i>threshold[354]:\n",
    "    y_pred.append(1)\n",
    "  else:\n",
    "    y_pred.append(0)\n",
    "\n",
    "print(sm.accuracy_score(y_true, y_pred))\n",
    "print(sm.f1_score(y_true, y_pred))\n",
    "print(sm.precision_score(y_true, y_pred))\n",
    "print(sm.recall_score(y_true, y_pred))   \n",
    "print(sm.roc_auc_score(y_true, y_pred))\n",
    "sm.confusion_matrix(y_true, y_pred)"
   ]
  },
  {
   "cell_type": "code",
   "execution_count": null,
   "metadata": {
    "colab": {
     "base_uri": "https://localhost:8080/",
     "height": 134
    },
    "id": "838WAIQ2LLTX",
    "outputId": "6c5291e5-2de5-40ae-a760-6e2b90297c54"
   },
   "outputs": [
    {
     "name": "stdout",
     "output_type": "stream",
     "text": [
      "0.9225393127548049\n",
      "0.8175582990397806\n",
      "0.9966555183946488\n",
      "0.6930232558139535\n",
      "0.8461231275184763\n"
     ]
    },
    {
     "data": {
      "text/plain": [
       "array([[1286,    1],\n",
       "       [ 132,  298]])"
      ]
     },
     "execution_count": 13,
     "metadata": {
      "tags": []
     },
     "output_type": "execute_result"
    }
   ],
   "source": [
    "y_pred=[]\n",
    "for i in conf:\n",
    "  if i>3.5:\n",
    "    y_pred.append(1)\n",
    "  else:\n",
    "    y_pred.append(0)\n",
    "\n",
    "\n",
    "print(sm.accuracy_score(y_true, y_pred))\n",
    "print(sm.f1_score(y_true, y_pred))\n",
    "print(sm.precision_score(y_true, y_pred))\n",
    "print(sm.recall_score(y_true, y_pred))   \n",
    "print(sm.roc_auc_score(y_true, y_pred))\n",
    "sm.confusion_matrix(y_true, y_pred)"
   ]
  },
  {
   "cell_type": "markdown",
   "metadata": {
    "id": "xKzDV5JRSrWV"
   },
   "source": [
    "as we can see we are getting better results with 3.5 as threshold, so will take it as the threshold. I got 0.817 as f1 score, which is pretty good."
   ]
  },
  {
   "cell_type": "code",
   "execution_count": null,
   "metadata": {
    "id": "FS2iAszENyRk"
   },
   "outputs": [],
   "source": []
  },
  {
   "cell_type": "markdown",
   "metadata": {
    "id": "jqvuoN5Ggwlw"
   },
   "source": [
    "# chunks for live video feed\n",
    "\n",
    "If you are using live streaming of video, can create 4 sec of chunks of videos. And then can process those chunks as we did before and then check if video is tampered or not. \n",
    "\n",
    "To create 4 sec chunk, ffmpeg command is below."
   ]
  },
  {
   "cell_type": "code",
   "execution_count": null,
   "metadata": {
    "id": "eYELT7LzvHoc"
   },
   "outputs": [],
   "source": [
    "vid='/content/gdrive/My Drive/Free English Lessons.mp4'"
   ]
  },
  {
   "cell_type": "code",
   "execution_count": null,
   "metadata": {
    "id": "1iGCWQaMgzdT"
   },
   "outputs": [],
   "source": [
    "#https://medium.com/@taylorjdawson/splitting-a-video-with-ffmpeg-the-great-mystical-magical-video-tool-%EF%B8%8F-1b31385221bd\n",
    "\n",
    "command='ffmpeg -i \"/content/gdrive/My Drive/Free English Lessons.mp4\" -c:v libx264 -crf 22 -map 0 -segment_time 4 -reset_timestamps 1 -g 25 -sc_threshold 0 -force_key_frames \"expr:gte(t,n_forced*1)\" -f segment output%03d.mp4'\n",
    "os.system(command)"
   ]
  },
  {
   "cell_type": "code",
   "execution_count": null,
   "metadata": {
    "id": "bXtYaWoFzMAz"
   },
   "outputs": [],
   "source": []
  },
  {
   "cell_type": "markdown",
   "metadata": {
    "id": "1pG2DXyVzJke"
   },
   "source": [
    "![image.png](data:image/png;base64,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)"
   ]
  },
  {
   "cell_type": "code",
   "execution_count": null,
   "metadata": {
    "id": "sgtEj7Gzg0gu"
   },
   "outputs": [],
   "source": []
  },
  {
   "cell_type": "markdown",
   "metadata": {
    "id": "aY7f-cEjzOE-"
   },
   "source": [
    "# Future work"
   ]
  },
  {
   "cell_type": "markdown",
   "metadata": {
    "id": "U30xLNZiuJ8R"
   },
   "source": [
    "Here we are trying to do transfer learning and make a contrastive loss function and then we can train it."
   ]
  },
  {
   "cell_type": "markdown",
   "metadata": {
    "id": "rLSdfA6IJIk5"
   },
   "source": [
    "## processing videos for featurization"
   ]
  },
  {
   "cell_type": "code",
   "execution_count": null,
   "metadata": {
    "id": "EN0jZh5DyVUA"
   },
   "outputs": [],
   "source": [
    "# processing non tampered videos to get features\n",
    "\n",
    "non_tamp_video_files=os.listdir('/content/gdrive/My Drive/vidtimit_videos/non_tampered')\n",
    "\n",
    "non_tamp_vid_features=[]\n",
    "non_tamp_aud_features=[]\n",
    "for file in non_tamp_video_files:\n",
    "  video='/content/gdrive/My Drive/vidtimit_videos/non_tampered/'+non_tamp_video_files[file]\n",
    "  user=video.split('_')[2]\n",
    "  user=user.split('/')[1]\n",
    "  au=video.split('_')[-1]\n",
    "  au=au.split('.')[0]\n",
    "\n",
    "  video_fea=video_processing(video)\n",
    "  non_tamp_vid_features.append(video_fea)\n",
    "  audio_fea=audio_processing('/content/gdrive/My Drive/VIDTIMIT/'+user+'/audio/'+au+'.wav',False)\n",
    "  non_tamp_aud_features.append(audio_fea)\n",
    "  "
   ]
  },
  {
   "cell_type": "code",
   "execution_count": null,
   "metadata": {
    "id": "v59BmbguyVZg"
   },
   "outputs": [],
   "source": [
    "# processing tampered videos to get features\n",
    "\n",
    "tamp_video_files=os.listdir('/content/gdrive/My Drive/vidtimit_videos/tampered')\n",
    "\n",
    "tamp_vid_fea=[]\n",
    "tamp_aud_fea=[]\n",
    "\n",
    "c=0\n",
    "for file in tamp_video_files:\n",
    "  c=c+1\n",
    "  video='/content/gdrive/My Drive/vidtimit_videos/tampered/'+tamp_video_files[file]\n",
    "  user=video.split('_')[2]\n",
    "  au=video.split('_')[-1]\n",
    "  au=au.split('.')[0]\n",
    "\n",
    "  video_fea=video_processing(video)\n",
    "  tamp_vid_fea.append(video_fea)\n",
    "  audio_fea=audio_processing('/content/gdrive/My Drive/VIDTIMIT/'+user+'/audio/'+au+'.wav',False)\n",
    "  tamp_aud_fea.append(audio_fea)\n",
    " "
   ]
  },
  {
   "cell_type": "markdown",
   "metadata": {
    "id": "FYbs7v6j_YJF"
   },
   "source": [
    "I am just trying to featurize few samples  from tampered and non tampered videos, and will check the model with these sample features. Complete processing of all videos takes nearly 6-8 hours."
   ]
  },
  {
   "cell_type": "code",
   "execution_count": null,
   "metadata": {
    "colab": {
     "base_uri": "https://localhost:8080/",
     "height": 34
    },
    "id": "uXNYOnQKUVo8",
    "outputId": "4c6139cf-25f1-4418-feb3-09bf5a2ab666"
   },
   "outputs": [
    {
     "data": {
      "text/plain": [
       "((10,), (17, 12, 20, 1))"
      ]
     },
     "execution_count": 31,
     "metadata": {
      "tags": []
     },
     "output_type": "execute_result"
    }
   ],
   "source": [
    "non_tamp_aud_features=np.array(non_tamp_aud_features)\n",
    "non_tamp_aud_features.shape,non_tamp_aud_features[0].shape"
   ]
  },
  {
   "cell_type": "code",
   "execution_count": null,
   "metadata": {
    "colab": {
     "base_uri": "https://localhost:8080/",
     "height": 34
    },
    "id": "xXPf9czAUqDH",
    "outputId": "e6f3ab97-4a73-4d3e-80e7-e21b13b1e3c3"
   },
   "outputs": [
    {
     "data": {
      "text/plain": [
       "((10,), (17, 112, 112, 5))"
      ]
     },
     "execution_count": 32,
     "metadata": {
      "tags": []
     },
     "output_type": "execute_result"
    }
   ],
   "source": [
    "non_tamp_vid_features = np.array(non_tamp_vid_features)\n",
    "non_tamp_vid_features.shape, non_tamp_vid_features[0].shape"
   ]
  },
  {
   "cell_type": "code",
   "execution_count": null,
   "metadata": {
    "id": "692QGPw10B9v"
   },
   "outputs": [],
   "source": [
    "# combining non tampered and tampered features, so we can pass to the model\n",
    "\n",
    "label=[]\n",
    "video_fea=[]\n",
    "audio_fea=[]\n",
    "\n",
    "for i in range(len(non_tamp_vid_features)):\n",
    "  video_fea.append(non_tamp_vid_features[i])\n",
    "  audio_fea.append(non_tamp_aud_features[i])\n",
    "  t=[]\n",
    "  for j in range(31):\n",
    "    t.append(1)\n",
    "  label.append(t)\n",
    "  video_fea.append(tamp_vid_fea[i])\n",
    "  audio_fea.append(tamp_aud_fea[i])\n",
    "  t=[]\n",
    "  for j in range(31):\n",
    "    t.append(0)\n",
    "  label.append(t)\n",
    "\n",
    "label=np.array(label)\n",
    "audio_fea=np.array(audio_fea)\n",
    "video_fea=np.array(video_fea)"
   ]
  },
  {
   "cell_type": "code",
   "execution_count": null,
   "metadata": {
    "id": "xcVwrTG28-dy"
   },
   "outputs": [],
   "source": []
  },
  {
   "cell_type": "markdown",
   "metadata": {
    "id": "WB4bqjnr_FWm"
   },
   "source": [
    "## tf records"
   ]
  },
  {
   "cell_type": "markdown",
   "metadata": {
    "id": "PFdshzkS8m20"
   },
   "source": [
    "I tried using tf.data.Dataset directly with audio and video features, but as depth is not fixed for all videos. It'll give ValueError. So I used tf records as shown below."
   ]
  },
  {
   "cell_type": "code",
   "execution_count": 22,
   "metadata": {
    "id": "RHHekFHLBLCt"
   },
   "outputs": [],
   "source": [
    "from tensorflow.keras.models import Model\n",
    "import tensorflow as tf\n",
    "import tensorflow_addons as tfa"
   ]
  },
  {
   "cell_type": "code",
   "execution_count": 23,
   "metadata": {
    "id": "FOvyGnFEyO3P"
   },
   "outputs": [],
   "source": [
    "# https://stackoverflow.com/questions/47861084/how-to-store-numpy-arrays-as-tfrecord?rq=1"
   ]
  },
  {
   "cell_type": "code",
   "execution_count": 24,
   "metadata": {
    "id": "O0GX8jZ7vq5B"
   },
   "outputs": [],
   "source": [
    "def _bytes_feature(value):\n",
    "    \"\"\"Returns a bytes_list from a string / byte.\"\"\"\n",
    "    if isinstance(value, type(tf.constant(0))): # if value is tensor\n",
    "        value = value.numpy() # get value of tensor\n",
    "    return tf.train.Feature(bytes_list=tf.train.BytesList(value=[value]))\n",
    "\n",
    "\n",
    "def serialize_array(array):\n",
    "  array = tf.io.serialize_tensor(array)\n",
    "  return array\n",
    "\n",
    "def _float_feature(value):\n",
    "  \"\"\"Returns a float_list from a float / double.\"\"\"\n",
    "  return tf.train.Feature(float_list=tf.train.FloatList(value=value))\n",
    "\n",
    "def _int64_feature(value):\n",
    "  \"\"\"Returns an int64_list from a bool / enum / int / uint.\"\"\"\n",
    "  return tf.train.Feature(int64_list=tf.train.Int64List(value=value))\n"
   ]
  },
  {
   "cell_type": "code",
   "execution_count": 33,
   "metadata": {
    "id": "jwEbZSqTu6bM"
   },
   "outputs": [],
   "source": [
    "# writing tfrecords\n",
    "\n",
    "filename = '/content/gdrive/My Drive/features/features.tfrecords'  # address to save the TFRecords file\n",
    "writer = tf.io.TFRecordWriter(filename)\n",
    "\n",
    "for i in range(len(audio_fea)):\n",
    "    serialized_audio = serialize_array(audio_fea[i])\n",
    "    serialized_video = serialize_array(video_fea[i])\n",
    "    s_label = serialize_array(label[i])\n",
    "\n",
    "    feature = {\"audio\" : _bytes_feature(serialized_audio),\n",
    "               \"video\" : _bytes_feature(serialized_video),\n",
    "               \"label\" : _bytes_feature(s_label)}\n",
    "\n",
    "    example = tf.train.Example(features=tf.train.Features(feature=feature))\n",
    "    writer.write(example.SerializeToString())\n",
    "\n",
    "writer.close()\n",
    "sys.stdout.flush()"
   ]
  },
  {
   "cell_type": "code",
   "execution_count": 40,
   "metadata": {
    "colab": {
     "base_uri": "https://localhost:8080/",
     "height": 185
    },
    "id": "m4_zRLARu6ew",
    "outputId": "6f67d11a-d585-4551-9790-dab6553ed7c9"
   },
   "outputs": [
    {
     "name": "stderr",
     "output_type": "stream",
     "text": [
      "IOPub data rate exceeded.\n",
      "The notebook server will temporarily stop sending output\n",
      "to the client in order to avoid crashing it.\n",
      "To change this limit, set the config variable\n",
      "`--NotebookApp.iopub_data_rate_limit`.\n",
      "\n",
      "Current values:\n",
      "NotebookApp.iopub_data_rate_limit=1000000.0 (bytes/sec)\n",
      "NotebookApp.rate_limit_window=3.0 (secs)\n",
      "\n"
     ]
    }
   ],
   "source": [
    "# Reading TFRecord file\n",
    "\n",
    "def _parse_tfr_element(ele):\n",
    "  parse_dic = {\n",
    "    'audio': tf.io.FixedLenFeature([], tf.string), \n",
    "    'video': tf.io.FixedLenFeature([], tf.string),\n",
    "    'label': tf.io.FixedLenFeature([], tf.string)\n",
    "    }\n",
    "  example_message = tf.io.parse_single_example(ele, parse_dic)\n",
    "\n",
    "  audio = example_message['audio'] # get byte string\n",
    "  video = example_message['video']\n",
    "  label = example_message['label']\n",
    "\n",
    "  audio_feature = tf.io.parse_tensor(audio, out_type=tf.float64) \n",
    "  video_feature = tf.io.parse_tensor(video, out_type=tf.float64) \n",
    "  labels = tf.io.parse_tensor(label, out_type=tf.int64)\n",
    "\n",
    "  return audio_feature, video_feature, labels\n",
    "\n",
    "\n",
    "tfr_dataset = tf.data.TFRecordDataset('/content/gdrive/My Drive/features/features.tfrecords') \n",
    "for serialized_instance in tfr_dataset:\n",
    "  print(serialized_instance)\n",
    "\n",
    "dataset = tfr_dataset.map(_parse_tfr_element)\n"
   ]
  },
  {
   "cell_type": "code",
   "execution_count": 27,
   "metadata": {
    "id": "oNQsFtyHLyd6"
   },
   "outputs": [],
   "source": [
    "# another function to make the dataset:\n",
    "\n",
    "# reference - https://keras.io/examples/keras_recipes/tfrecord/\n",
    "\n",
    "from functools import partial\n",
    "FILENAMES = tf.io.gfile.glob( \"/content/gdrive/My Drive/features/features.tfrecords\")\n",
    "AUTOTUNE = tf.data.experimental.AUTOTUNE\n",
    "\n",
    "def read_tfrecord(ele):\n",
    "    tfrecord_format = (\n",
    "        {\n",
    "            'audio': tf.io.FixedLenFeature([], tf.string), \n",
    "            'video': tf.io.FixedLenFeature([], tf.string),\n",
    "            'label': tf.io.FixedLenFeature([], tf.string)\n",
    "        }\n",
    "        \n",
    "    )\n",
    "\n",
    "    example_message = tf.io.parse_single_example(ele, tfrecord_format)\n",
    "\n",
    "    audio = example_message['audio'] # get byte string\n",
    "    video = example_message['video']\n",
    "    label = example_message['label']\n",
    "\n",
    "    audio_feature = tf.io.parse_tensor(audio, out_type=tf.float64) \n",
    "    video_feature = tf.io.parse_tensor(video, out_type=tf.float64) \n",
    "    labels = tf.io.parse_tensor(label, out_type=tf.int64) \n",
    "    return audio_feature,video_feature, labels\n",
    "\n",
    "\n",
    "ignore_order = tf.data.Options()\n",
    "ignore_order.experimental_deterministic = False  # disable order, increase speed\n",
    "dataset = tf.data.TFRecordDataset(FILENAMES)  # automatically interleaves reads from multiple files\n",
    "dataset = dataset.with_options(ignore_order)  # uses data as soon as it streams in, rather than in its original order\n",
    "DataSet = dataset.map(partial(read_tfrecord), num_parallel_calls=AUTOTUNE)"
   ]
  },
  {
   "cell_type": "code",
   "execution_count": 28,
   "metadata": {
    "colab": {
     "base_uri": "https://localhost:8080/",
     "height": 50
    },
    "id": "W5v6Q3N2LyYT",
    "outputId": "bc8dc30a-1939-4ff6-ce58-8291b758cd00"
   },
   "outputs": [
    {
     "name": "stdout",
     "output_type": "stream",
     "text": [
      "(17, 12, 20, 1) (17, 112, 112, 5)\n",
      "(31,)\n"
     ]
    }
   ],
   "source": [
    "# DataSet is working fine\n",
    "\n",
    "for i,j,k in DataSet:\n",
    "  print(i.shape,j.shape)\n",
    "  print(k.shape)\n",
    "  break\n"
   ]
  },
  {
   "cell_type": "markdown",
   "metadata": {
    "id": "qhNBXjvoEdL0"
   },
   "source": [
    "## training"
   ]
  },
  {
   "cell_type": "code",
   "execution_count": 29,
   "metadata": {
    "id": "fBSunCh9Wrqc"
   },
   "outputs": [],
   "source": [
    "# distance functions in tf\n",
    "\n",
    "def euclidean_distance_loss(y_true, y_pred):\n",
    "    ''' using tensorflow implementation to calculate distance '''\n",
    "\n",
    "    dists = tf.linalg.norm(y_pred - y_true, axis=1)\n",
    "    return dists\n",
    "\n",
    "def distance_euc_tf(feat1, feat2, vshift=15):\n",
    "  ''' takes 2 tensors as input and return euclidian distance between those '''\n",
    "  \n",
    "  win_size = vshift*2+1\n",
    "  paddings = tf.constant([[vshift, vshift+1,], [0, 0]])\n",
    "  feat2p = tf.pad(feat2, paddings, \"CONSTANT\")              # padding for feat2\n",
    "  \n",
    "  if len(feat2p) < len(feat1)+win_size:\n",
    "    # after padding in feat2, if still not getting enough rows to calculate distance in below for loop, we have to pad 'n' more rows\n",
    "\n",
    "    n = len(feat1)+win_size-len(feat2p)\n",
    "    padd = tf.constant([[0, n,], [0, 0]])\n",
    "    feat2p = tf.pad(feat2p, padd, \"CONSTANT\")\n",
    "\n",
    "  dists = []\n",
    "\n",
    "  # we have to create pairwise distance, so running below for loop so it'll calculate distance of every row of feat1 with every 31 rows sample of feat2p\n",
    "\n",
    "  for i in range(0,len(feat1)):\n",
    "    a=tf.repeat([feat1[i,:]], win_size, axis=0)\n",
    "    b=feat2p[i:i+win_size,:]\n",
    "    dists.append(euclidean_distance_loss(a, b))\n",
    "\n",
    "  mdist = np.mean(np.stack(dists,1),1)     # mdist will be array of 31 values\n",
    "  mdist = tf.convert_to_tensor(mdist)\n",
    "  return mdist"
   ]
  },
  {
   "cell_type": "code",
   "execution_count": 30,
   "metadata": {
    "id": "fPVuYF7tp7XR"
   },
   "outputs": [],
   "source": [
    "def loss_function(y_true, pred_dist):\n",
    "  ''' calculates contrastive loss between true and predictive values '''\n",
    "\n",
    "  e=0\n",
    "  for i in range(31):\n",
    "    e = e + (y_true[i]*(pred_dist[i])**2) + ((1-y_true[i])*max(1-pred_dist[i],0)**2)\n",
    "  loss = e/(2*31)\n",
    "  \n",
    "  return loss"
   ]
  },
  {
   "cell_type": "code",
   "execution_count": 41,
   "metadata": {
    "colab": {
     "base_uri": "https://localhost:8080/",
     "height": 252
    },
    "id": "OKXklfOfbnJJ",
    "outputId": "83118d85-a3c7-4bed-960a-c6fdbd95db58"
   },
   "outputs": [
    {
     "name": "stdout",
     "output_type": "stream",
     "text": [
      "video and audio features respectively : (23, 112, 112, 5) (23, 12, 20, 1)\n",
      "video predicted shape (23, 128)\n",
      "audio predicted shape (23, 128)\n",
      "\n",
      "distance : tf.Tensor(\n",
      "[13.451019  13.3574295 13.093312  12.782899  12.573195  12.471448\n",
      " 12.321617  12.14698   12.0412    11.753709  11.774637  11.308606\n",
      " 11.127702  11.001187  10.640835  10.597815  10.762457  11.083251\n",
      " 11.310944  11.336828  11.565127  11.754389  11.873314  11.899182\n",
      " 12.156877  12.286059  12.592563  12.66416   12.948493  13.034859\n",
      " 13.161225 ], shape=(31,), dtype=float32)\n",
      "\n",
      "confidence is : tf.Tensor(1.4433851, shape=(), dtype=float32)\n",
      "loss value : tf.Tensor(72.666695, shape=(), dtype=float32)\n"
     ]
    }
   ],
   "source": [
    "# checking the functions\n",
    "\n",
    "video='/content/gdrive/My Drive/vidtimit_videos/non_tampered/fadg0_sa1.mp4'\n",
    "user=video.split('_')[2]\n",
    "user=user.split('/')[1]\n",
    "au=video.split('_')[-1]\n",
    "au=au.split('.')[0]\n",
    "\n",
    "video_fea=video_processing(video)\n",
    "audio_fea=audio_processing('/content/gdrive/My Drive/VIDTIMIT/'+user+'/audio/'+au+'.wav',False)\n",
    "print('video and audio features respectively :',video_fea.shape,audio_fea.shape)\n",
    "\n",
    "audio_pred = model[0].predict(audio_fea)\n",
    "lip_pred = model[1].predict(video_fea)\n",
    "print('video predicted shape',lip_pred.shape)\n",
    "print('audio predicted shape',audio_pred.shape)\n",
    "print()\n",
    "d = distance_euc_tf(lip_pred, audio_pred)\n",
    "print('distance :',d)\n",
    "print()\n",
    "conf = np.median(d)-min(d)\n",
    "print('confidence is :',conf)\n",
    "\n",
    "y_true=[1 for i in range(31)]\n",
    "l=loss_function(y_true,d)\n",
    "print('loss value :',l)"
   ]
  },
  {
   "cell_type": "markdown",
   "metadata": {
    "id": "cPaixghoIb1h"
   },
   "source": [
    "### new model"
   ]
  },
  {
   "cell_type": "code",
   "execution_count": 50,
   "metadata": {
    "id": "N2LnYpZWo21W"
   },
   "outputs": [],
   "source": [
    "model[0].trainable = False\n",
    "model[1].trainable = False"
   ]
  },
  {
   "cell_type": "code",
   "execution_count": 51,
   "metadata": {
    "id": "zeb0-7bzbScM"
   },
   "outputs": [],
   "source": [
    "# new model for transfer learning: I'm just adding one customize layer as distance function and then using contrastive loss function, one can use \"tfa.losses.ContrastiveLoss\" also\n",
    "\n",
    "x1 = model[0].output\n",
    "x2 = model[1].output\n",
    "\n",
    "l1 = tf.keras.layers.Lambda(lambda x: distance_euc_tf, input_shape=(None, 128), output_shape=(31,))([x1,x2])\n",
    "\n",
    "new_model = Model(inputs = [model[0].input,model[1].input], outputs=l1)\n",
    "\n",
    "new_model.compile(optimizer=tf.keras.optimizers.Adam(0.001),loss=loss_function)"
   ]
  },
  {
   "cell_type": "code",
   "execution_count": 52,
   "metadata": {
    "id": "Z4j0Mq9i1E2q"
   },
   "outputs": [],
   "source": [
    "for layer in model[0].layers:\n",
    "  layer.trainable = False\n",
    "for layer in model[1].layers:\n",
    "  layer.trainable = False"
   ]
  },
  {
   "cell_type": "code",
   "execution_count": 51,
   "metadata": {
    "colab": {
     "base_uri": "https://localhost:8080/",
     "height": 1000
    },
    "id": "zmnkabpy1NU8",
    "outputId": "5f9dce0e-89af-42de-8502-aae3ff0b5158"
   },
   "outputs": [
    {
     "name": "stdout",
     "output_type": "stream",
     "text": [
      "Model: \"functional_1\"\n",
      "__________________________________________________________________________________________________\n",
      "Layer (type)                    Output Shape         Param #     Connected to                     \n",
      "==================================================================================================\n",
      "conv1_lip_input (InputLayer)    [(None, 112, 112, 5) 0                                            \n",
      "__________________________________________________________________________________________________\n",
      "conv1_audio_input (InputLayer)  [(None, 12, 20, 1)]  0                                            \n",
      "__________________________________________________________________________________________________\n",
      "conv1_lip (Conv2D)              (None, 110, 110, 96) 4416        conv1_lip_input[0][0]            \n",
      "__________________________________________________________________________________________________\n",
      "conv1_audio (Conv2D)            (None, 12, 20, 64)   640         conv1_audio_input[0][0]          \n",
      "__________________________________________________________________________________________________\n",
      "bn1_lip (BatchNormalization)    (None, 110, 110, 96) 384         conv1_lip[0][0]                  \n",
      "__________________________________________________________________________________________________\n",
      "bn1_audio (BatchNormalization)  (None, 12, 20, 64)   256         conv1_audio[0][0]                \n",
      "__________________________________________________________________________________________________\n",
      "relu1_lip (Activation)          (None, 110, 110, 96) 0           bn1_lip[0][0]                    \n",
      "__________________________________________________________________________________________________\n",
      "relu1_audio (Activation)        (None, 12, 20, 64)   0           bn1_audio[0][0]                  \n",
      "__________________________________________________________________________________________________\n",
      "pool1_lip (MaxPooling2D)        (None, 54, 54, 96)   0           relu1_lip[0][0]                  \n",
      "__________________________________________________________________________________________________\n",
      "conv2_audio (Conv2D)            (None, 12, 20, 128)  73856       relu1_audio[0][0]                \n",
      "__________________________________________________________________________________________________\n",
      "conv2_lip (Conv2D)              (None, 50, 50, 256)  614656      pool1_lip[0][0]                  \n",
      "__________________________________________________________________________________________________\n",
      "bn2_audio (BatchNormalization)  (None, 12, 20, 128)  512         conv2_audio[0][0]                \n",
      "__________________________________________________________________________________________________\n",
      "bn2_lip (BatchNormalization)    (None, 50, 50, 256)  1024        conv2_lip[0][0]                  \n",
      "__________________________________________________________________________________________________\n",
      "relu2_audio (Activation)        (None, 12, 20, 128)  0           bn2_audio[0][0]                  \n",
      "__________________________________________________________________________________________________\n",
      "relu2_lip (Activation)          (None, 50, 50, 256)  0           bn2_lip[0][0]                    \n",
      "__________________________________________________________________________________________________\n",
      "pool2_audio (MaxPooling2D)      (None, 12, 9, 128)   0           relu2_audio[0][0]                \n",
      "__________________________________________________________________________________________________\n",
      "pool2_lip (MaxPooling2D)        (None, 24, 24, 256)  0           relu2_lip[0][0]                  \n",
      "__________________________________________________________________________________________________\n",
      "conv3_audio (Conv2D)            (None, 12, 9, 256)   295168      pool2_audio[0][0]                \n",
      "__________________________________________________________________________________________________\n",
      "conv3_lip (Conv2D)              (None, 22, 22, 512)  1180160     pool2_lip[0][0]                  \n",
      "__________________________________________________________________________________________________\n",
      "bn3_audio (BatchNormalization)  (None, 12, 9, 256)   1024        conv3_audio[0][0]                \n",
      "__________________________________________________________________________________________________\n",
      "bn3_lip (BatchNormalization)    (None, 22, 22, 512)  2048        conv3_lip[0][0]                  \n",
      "__________________________________________________________________________________________________\n",
      "relu3_audio (Activation)        (None, 12, 9, 256)   0           bn3_audio[0][0]                  \n",
      "__________________________________________________________________________________________________\n",
      "relu3_lip (Activation)          (None, 22, 22, 512)  0           bn3_lip[0][0]                    \n",
      "__________________________________________________________________________________________________\n",
      "conv4_audio (Conv2D)            (None, 12, 9, 256)   590080      relu3_audio[0][0]                \n",
      "__________________________________________________________________________________________________\n",
      "conv4_lip (Conv2D)              (None, 20, 20, 512)  2359808     relu3_lip[0][0]                  \n",
      "__________________________________________________________________________________________________\n",
      "bn4_audio (BatchNormalization)  (None, 12, 9, 256)   1024        conv4_audio[0][0]                \n",
      "__________________________________________________________________________________________________\n",
      "bn4_lip (BatchNormalization)    (None, 20, 20, 512)  2048        conv4_lip[0][0]                  \n",
      "__________________________________________________________________________________________________\n",
      "relu4_audio (Activation)        (None, 12, 9, 256)   0           bn4_audio[0][0]                  \n",
      "__________________________________________________________________________________________________\n",
      "relu4_lip (Activation)          (None, 20, 20, 512)  0           bn4_lip[0][0]                    \n",
      "__________________________________________________________________________________________________\n",
      "conv5_audio (Conv2D)            (None, 12, 9, 256)   590080      relu4_audio[0][0]                \n",
      "__________________________________________________________________________________________________\n",
      "conv5_lip (Conv2D)              (None, 18, 18, 512)  2359808     relu4_lip[0][0]                  \n",
      "__________________________________________________________________________________________________\n",
      "bn5_audio (BatchNormalization)  (None, 12, 9, 256)   1024        conv5_audio[0][0]                \n",
      "__________________________________________________________________________________________________\n",
      "bn5_lip (BatchNormalization)    (None, 18, 18, 512)  2048        conv5_lip[0][0]                  \n",
      "__________________________________________________________________________________________________\n",
      "relu5_audio (Activation)        (None, 12, 9, 256)   0           bn5_audio[0][0]                  \n",
      "__________________________________________________________________________________________________\n",
      "relu5_lip (Activation)          (None, 18, 18, 512)  0           bn5_lip[0][0]                    \n",
      "__________________________________________________________________________________________________\n",
      "pool5_audio (MaxPooling2D)      (None, 5, 4, 256)    0           relu5_audio[0][0]                \n",
      "__________________________________________________________________________________________________\n",
      "pool5_lip (MaxPooling2D)        (None, 6, 6, 512)    0           relu5_lip[0][0]                  \n",
      "__________________________________________________________________________________________________\n",
      "flatten_audio (Flatten)         (None, 5120)         0           pool5_audio[0][0]                \n",
      "__________________________________________________________________________________________________\n",
      "flatten_lip (Flatten)           (None, 18432)        0           pool5_lip[0][0]                  \n",
      "__________________________________________________________________________________________________\n",
      "fc6_audio (Dense)               (None, 256)          1310976     flatten_audio[0][0]              \n",
      "__________________________________________________________________________________________________\n",
      "fc6_lip (Dense)                 (None, 256)          4718848     flatten_lip[0][0]                \n",
      "__________________________________________________________________________________________________\n",
      "bn6_audio (BatchNormalization)  (None, 256)          1024        fc6_audio[0][0]                  \n",
      "__________________________________________________________________________________________________\n",
      "bn6_lip (BatchNormalization)    (None, 256)          1024        fc6_lip[0][0]                    \n",
      "__________________________________________________________________________________________________\n",
      "relu6_audio (Activation)        (None, 256)          0           bn6_audio[0][0]                  \n",
      "__________________________________________________________________________________________________\n",
      "relu6_lip (Activation)          (None, 256)          0           bn6_lip[0][0]                    \n",
      "__________________________________________________________________________________________________\n",
      "fc7_audio (Dense)               (None, 128)          32896       relu6_audio[0][0]                \n",
      "__________________________________________________________________________________________________\n",
      "fc7_lip (Dense)                 (None, 128)          32896       relu6_lip[0][0]                  \n",
      "__________________________________________________________________________________________________\n",
      "bn7_audio (BatchNormalization)  (None, 128)          512         fc7_audio[0][0]                  \n",
      "__________________________________________________________________________________________________\n",
      "bn7_lip (BatchNormalization)    (None, 128)          512         fc7_lip[0][0]                    \n",
      "__________________________________________________________________________________________________\n",
      "relu7_audio (Activation)        (None, 128)          0           bn7_audio[0][0]                  \n",
      "__________________________________________________________________________________________________\n",
      "relu7_lip (Activation)          (None, 128)          0           bn7_lip[0][0]                    \n",
      "__________________________________________________________________________________________________\n",
      "lambda (Lambda)                 multiple             0           relu7_audio[0][0]                \n",
      "                                                                 relu7_lip[0][0]                  \n",
      "==================================================================================================\n",
      "Total params: 14,178,752\n",
      "Trainable params: 0\n",
      "Non-trainable params: 14,178,752\n",
      "__________________________________________________________________________________________________\n",
      "None\n"
     ]
    }
   ],
   "source": [
    "print(new_model.summary())"
   ]
  },
  {
   "cell_type": "code",
   "execution_count": null,
   "metadata": {
    "colab": {
     "base_uri": "https://localhost:8080/",
     "height": 1000
    },
    "id": "kcfdRjWomTe3",
    "outputId": "43d173d2-b561-4fc5-b19a-ff5113b9c2d8"
   },
   "outputs": [
    {
     "data": {
      "image/png": "[encoded data removed]",
      "text/plain": [
       "<IPython.core.display.Image object>"
      ]
     },
     "execution_count": 97,
     "metadata": {
      "tags": []
     },
     "output_type": "execute_result"
    }
   ],
   "source": [
    "from keras.utils.vis_utils import plot_model\n",
    "plot_model(new_model, to_file='model_struct.png')\n"
   ]
  },
  {
   "cell_type": "code",
   "execution_count": null,
   "metadata": {
    "id": "RcjNI_qhG_cd"
   },
   "outputs": [],
   "source": []
  },
  {
   "cell_type": "markdown",
   "metadata": {
    "id": "-dQyaM21GGp2"
   },
   "source": [
    "To train this model, we need same first dimension which we don't have in our case. \n",
    "So I was getting ValueError: Data cardinality is ambiguous: Please provide data which shares the same first dimension.\n",
    "\n",
    "So if someone interested, can give it a try with tf.gradients"
   ]
  },
  {
   "cell_type": "code",
   "execution_count": null,
   "metadata": {
    "id": "6DhecSiqGeMm"
   },
   "outputs": [],
   "source": []
  },
  {
   "cell_type": "markdown",
   "metadata": {
    "id": "txNgZjnMIe4Q"
   },
   "source": [
    "### transfer learning without new model"
   ]
  },
  {
   "cell_type": "code",
   "execution_count": 31,
   "metadata": {
    "id": "7biLEsjzM8Dh"
   },
   "outputs": [],
   "source": [
    "for layer in model[0].layers:\n",
    "  layer.trainable = False\n",
    "for layer in model[1].layers:\n",
    "  layer.trainable = False"
   ]
  },
  {
   "cell_type": "code",
   "execution_count": 32,
   "metadata": {
    "colab": {
     "base_uri": "https://localhost:8080/",
     "height": 118
    },
    "id": "iHOSHLLkDYi8",
    "outputId": "ea7475ad-7159-45b8-8ded-54844235eb51"
   },
   "outputs": [
    {
     "name": "stdout",
     "output_type": "stream",
     "text": [
      "True <tensorflow.python.keras.layers.core.Activation object at 0x7fdca3d57470>\n",
      "True <tensorflow.python.keras.layers.normalization_v2.BatchNormalization object at 0x7fdca3d51780>\n",
      "True <tensorflow.python.keras.layers.core.Dense object at 0x7fdca3d34390>\n",
      "True <tensorflow.python.keras.layers.core.Activation object at 0x7fdca3d28da0>\n",
      "True <tensorflow.python.keras.layers.normalization_v2.BatchNormalization object at 0x7fdca3d28860>\n",
      "True <tensorflow.python.keras.layers.core.Dense object at 0x7fdca3d285c0>\n"
     ]
    }
   ],
   "source": [
    "for i in range(len(model[0].layers),18,-1):\n",
    "  model[0].layers[i-1].trainable = True\n",
    "  print(model[0].layers[i-1].trainable, model[0].layers[i-1])\n"
   ]
  },
  {
   "cell_type": "code",
   "execution_count": 33,
   "metadata": {
    "colab": {
     "base_uri": "https://localhost:8080/",
     "height": 118
    },
    "id": "eqdm84HLG4Kq",
    "outputId": "d28e9d52-4885-4a8a-ca77-abbe214281ca"
   },
   "outputs": [
    {
     "name": "stdout",
     "output_type": "stream",
     "text": [
      "True <tensorflow.python.keras.layers.core.Activation object at 0x7fdca3e568d0>\n",
      "True <tensorflow.python.keras.layers.normalization_v2.BatchNormalization object at 0x7fdca3e4fbe0>\n",
      "True <tensorflow.python.keras.layers.core.Dense object at 0x7fdca3e31518>\n",
      "True <tensorflow.python.keras.layers.core.Activation object at 0x7fdca3e31080>\n",
      "True <tensorflow.python.keras.layers.normalization_v2.BatchNormalization object at 0x7fdca3e28a58>\n",
      "True <tensorflow.python.keras.layers.core.Dense object at 0x7fdca3e28f60>\n"
     ]
    }
   ],
   "source": [
    "for i in range(len(model[1].layers),19,-1):\n",
    "  model[1].layers[i-1].trainable = True\n",
    "  print(model[1].layers[i-1].trainable, model[1].layers[i-1])"
   ]
  },
  {
   "cell_type": "code",
   "execution_count": 35,
   "metadata": {
    "colab": {
     "base_uri": "https://localhost:8080/",
     "height": 34
    },
    "id": "ZEsL56DiKzaa",
    "outputId": "420d2ca4-d054-4b6b-adb9-7229a1c04f82"
   },
   "outputs": [
    {
     "data": {
      "text/plain": [
       "(8, 8)"
      ]
     },
     "execution_count": 35,
     "metadata": {
      "tags": []
     },
     "output_type": "execute_result"
    }
   ],
   "source": [
    "len(model[0].trainable_variables) , len(model[1].trainable_variables)"
   ]
  },
  {
   "cell_type": "code",
   "execution_count": 36,
   "metadata": {
    "colab": {
     "base_uri": "https://localhost:8080/",
     "height": 34
    },
    "id": "K4VLJuMAQ2us",
    "outputId": "8b5bd0fe-6f3c-457f-9557-dafa2ca7425e"
   },
   "outputs": [
    {
     "data": {
      "text/plain": [
       "16"
      ]
     },
     "execution_count": 36,
     "metadata": {
      "tags": []
     },
     "output_type": "execute_result"
    }
   ],
   "source": [
    "trainable_variables_list = model[0].trainable_variables + model[1].trainable_variables\n",
    "len(trainable_variables_list)"
   ]
  },
  {
   "cell_type": "code",
   "execution_count": null,
   "metadata": {
    "id": "pUXdwJsfJ42n"
   },
   "outputs": [],
   "source": [
    "# https://www.tensorflow.org/api_docs/python/tf/keras/optimizers/Optimizer\n",
    "# https://stackoverflow.com/questions/59731667/why-does-training-using-tf-gradienttape-in-tensorflow-2-have-different-behavior\n",
    "# https://www.tensorflow.org/api_docs/python/tf/GradientTape\n",
    "\n",
    "cnt=0\n",
    "for input1, input2, label in DataSet:\n",
    "    for i in range(1):\n",
    "        cnt=cnt+1\n",
    "        print('Running round',cnt)\n",
    "        \n",
    "        with tf.GradientTape() as tape:\n",
    "            tape.watch([input1,input2])\n",
    "            pr1=model[0](input1, training=True)\n",
    "            pr2=model[1](input2, training=True)\n",
    "            prediction=distance_euc_tf(pr2,pr1)\n",
    "            \n",
    "            prediction=tf.cast(prediction,np.int64)     # have to convert to int64 because of error \"InvalidArgumentError: cannot compute Mul as input #1(zero-based) was expected to be a int64 tensor but is a float tensor [Op:Mul]\"\n",
    "            loss_value = loss_function(label,prediction)\n",
    "\n",
    "        grads = tape.gradient(loss_value, trainable_variables_list)\n",
    "        optimizer = tf.keras.optimizers.Adam()\n",
    "        optimizer.apply_gradients(zip(grads, trainable_variables_list))"
   ]
  },
  {
   "cell_type": "markdown",
   "metadata": {
    "id": "Cm1xXd2YMWiM"
   },
   "source": [
    "Here I have used customized distance function and loss function. So due to gradient issue I'm not able to train the model. Because not everything is differentiable in my functions. But it can totally be differentiable and trainable if someone use proper tensorflow implementation. So I'm leaving it as the future work. This is the improvement anyone can do in future refering this notebook."
   ]
  },
  {
   "cell_type": "code",
   "execution_count": null,
   "metadata": {
    "id": "oUpzQWGcbFoZ"
   },
   "outputs": [],
   "source": []
  },
  {
   "cell_type": "markdown",
   "metadata": {
    "id": "8j8bwS7QN97Z"
   },
   "source": [
    "# Summary"
   ]
  },
  {
   "cell_type": "markdown",
   "metadata": {
    "id": "0SpaURTfKpZi"
   },
   "source": [
    "1. First I created tampered and non tampered videos from the VIDTIMIT dataset, where we have 43 users. I created 30 tampered videos per user and 10 non-tampered videos per user.\n",
    "\n",
    "2. Then I'm trying to apply syncnet model (https://www.robots.ox.ac.uk/~vgg/publications/2016/Chung16a/chung16a.pdf), with that dataset to classify videos as real (non-tampered == 1) or fake (tampered == 0). So it's a classification problem with 2 classes.\n",
    "\n",
    "3. Then for audio and video featurization, I have taken processing functions from \"https://github.com/voletiv/syncnet-in-keras\". From videos we are detecting face and mouth, then taking rectangle coordinated of mouth and preparing the video features. And for audio featurization we are using MFCC features.\n",
    "\n",
    "4. Then for model, we have two models (one for audio and one for video), again for all the functions I took from the mentioned link. And we are using pre-trained weights here.\n",
    "\n",
    "5. Then I passed audio features to model[0] and video features to model[1], and got final predicted respective arrays.\n",
    "\n",
    "6. Then for classification I calculated euclidean distance between those arrays. From the distance function we'll get 31 valued array. From that we have to find confidence for the video. Confidence is difference between median and min value. \n",
    "\n",
    "7. At last with all confidence values, I found the threshold value for classification of real and fake videos.\n",
    "\n",
    "8. I got pretty good results. I got roc auc score as 0.8461231275184763.\n",
    "\n",
    "9. Then I showed how to make chunks from a bigger video.\n",
    "\n",
    "10. Then in last section (future work), I tried to make a model for transfer learning. If anyone interested wants to train the syncnet model as per requirements, can run that model. I used tf records to make dataset. And for training tf.GradientTape(). I made custom functions for distance and loss function. "
   ]
  },
  {
   "cell_type": "code",
   "execution_count": null,
   "metadata": {
    "id": "yFHY00460Sfx"
   },
   "outputs": [],
   "source": []
  }
 ],
 "metadata": {
  "colab": {
   "collapsed_sections": [],
   "name": "CS2_syncnet_model_final.ipynb",
   "provenance": []
  },
  "kernelspec": {
   "display_name": "Python 3",
   "language": "python",
   "name": "python3"
  },
  "language_info": {
   "codemirror_mode": {
    "name": "ipython",
    "version": 3
   },
   "file_extension": ".py",
   "mimetype": "text/x-python",
   "name": "python",
   "nbconvert_exporter": "python",
   "pygments_lexer": "ipython3",
   "version": "3.8.3"
  }
 },
 "nbformat": 4,
 "nbformat_minor": 1
}
